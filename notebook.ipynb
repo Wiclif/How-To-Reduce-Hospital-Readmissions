{
 "cells": [
  {
   "cell_type": "markdown",
   "id": "47983de3-37f4-4982-ac91-8379a4a123ff",
   "metadata": {},
   "source": [
    "# Reducing Hospital Admissions"
   ]
  },
  {
   "cell_type": "markdown",
   "id": "9a9ada08-c9f0-466f-91a0-265fa539f9f5",
   "metadata": {},
   "source": [
    "\n",
    "# 📖 Background\n",
    "You work for a consulting company helping a hospital group better understand patient readmissions. The hospital gave you access to ten years of information on patients readmitted to the hospital after being discharged. The doctors want you to assess if initial diagnoses, number of procedures, or other variables could help them better understand the probability of readmission. \n",
    "\n",
    "They want to focus follow-up calls and attention on those patients with a higher probability of readmission."
   ]
  },
  {
   "cell_type": "markdown",
   "id": "54e0ae0c-ff96-443e-9ff3-718f1ab846e5",
   "metadata": {},
   "source": [
    "The objective of this project is to\n",
    "create a report that covers the following:\n",
    "\n",
    "1. What is the most common primary diagnosis by age group? \n",
    "2. Some doctors believe diabetes might play a central role in readmission. Explore the effect of a diabetes diagnosis on readmission rates. \n",
    "3. On what groups of patients should the hospital focus their follow-up efforts to better monitor patients with a high probability of readmission?"
   ]
  },
  {
   "cell_type": "markdown",
   "id": "c0afa251-46c4-44d9-a71b-2d3eb6c5fcff",
   "metadata": {},
   "source": [
    "**<hr></hr>**"
   ]
  },
  {
   "cell_type": "markdown",
   "id": "bbc0a7e4-e849-4109-8fc4-42927224293d",
   "metadata": {},
   "source": [
    "# Table of Contents\n",
    "1. Introduction\n",
    "2. Data collection and pre-processing<br>\n",
    "    2.1. The data\n",
    "3. Exploratory Data Analysis<br>\n",
    "\t3.1. What Age groups frequent hospital admissions<br>\n",
    "\t3.2. Most common diagnosis by age grooup<br>\n",
    "\t3.3. Readmissions<br>\n",
    "\t  \t3.3.1. By Diagnosis<br>\n",
    "      \t3.3.2. By Department<br>\n",
    "\t  \t3.3.3. By Age group<br>\n",
    "4. Diabetes<br>\n",
    "\t4.1. Effect of Medication on readmission<br>\n",
    "\t4.2. Effect of changing medications on readmission<br>\n",
    "\t4.3. Complications of Diabetes<br>\n",
    "5. Segmentation into Patient Groups<br>\n",
    "\t5.1. Segments<br>\n",
    "\t  \t5.1.1 Severe Group<br>\n",
    "\t  \t5.1.2 Moderate Group<br>\n",
    "\t  \t5.1.3 Focus Group<br>\n",
    "6. Conclusion"
   ]
  },
  {
   "cell_type": "markdown",
   "id": "ced06d97-1934-4e5f-8200-e6eae58e2174",
   "metadata": {},
   "source": [
    "# Executive Summary\n",
    "For the past ten years of hospital records taken from the dataset, there were 25000 records of patients. These records are being analyzed to provide recommendations that will reduce hospital readmissions. It follows a workflow of first and foremost identifying the factors that affect readmission and providing a probable strategy for prevention and control.\n",
    "\n",
    "#### Age Groups\n",
    "There were most admissions for patients in their 70's and 60's probably because of the nature of the population or the degree of risk for these groups of ages. These ages are more at risk of hospitalization since they are prone to complications and mortality.\n",
    "Concerning the spread of diagnostic conclusions for age groups, all age groups are most exposed to disorders of the circulatory system like Heart Failure and systemic infections with predominace in patients in their 70's and least amongst patients in their 40's.\n",
    "\n",
    "The analysis revealed the readmission rates by age group and realised that individuals aged 80 to 89 were at highest risk of readmission with a readmission rate of 49.58 %. This was shortly followed by age group 70 to 79(48.79%) and age group 60 to 69 (46.85).\n",
    "Hence as prevention strategies:\n",
    "- Create screening and follow-up sessions for old people to evaluate their medical conditions.\n",
    "- Control the compliance to medications by old people.\n",
    "- Ensuring patient stays physically active and getting enough rest as well.\n",
    "- Eat healthy food containing fibres and fruits for the immune system.\n",
    "\n",
    "The probability of readmission is higher in age groups 40 to 70 with longer stays in the hospital. There is no much associated change for ages 70 to 100 which means length of stay is not much of a factor affecting readmission in this group. Hence a suitable strategy to reduce readmission in this group would be:\n",
    "\n",
    "- Relay patients on oral medications following treatment\n",
    "- Discharge patients when criteria of discharge is met\n",
    "\n",
    "#### Diabetes\n",
    "The analysis showed that 53.63% of patients diagnosed with diabetes were readmitted which is more than average and as well the overall readmission rate. Diabetes has an involvement in all the other systems of the body. Hence as a means of reducing readmission, the following can be done:\n",
    "- Do clinical evaluation of all systems involved for all admitted diabetic patients.\n",
    "- Place patients on anti-diabetic medications and counsel on its compliance\n",
    "- Advice patients on lifestyle changes such as exercises, dietary lifestyle, cigarette smoking and alcohol consumption.\n",
    "- Encourage regular follow-ups and checks for re-evaluation\n",
    "\n",
    "With Diabetes  being the most risky diagnosis, an analysis of its complications were done. The results showed that the complications of diabetes are most associated with diseases of the Circulatory System, then The Respiratory and digestive systems and others like the nervous system. Hence to control the diabetes in patients enbodies controling and evaluating the circulatory system most and all other systems to prevent complications.\n",
    "- Personal and environmental hygiene\n",
    "- mental health care\n",
    "- nutritional habits\n",
    "- Exercise adherence\n",
    "\n",
    "The prediction of readmission in diabetic patients was analysed and the features used for the predictive analysis were medication change, presence or absence of medication, glucose test, and A1Ctest. These features were used because of their relevance in diabetes. A Logistic regression model created to predict readmission was used with an accuracy score of about 53% obtained.\n",
    "\n",
    "#### Focus groups\n",
    "The prevention of readmission would be focused on an isolated risky group of patients in relation to their age groups and diagnosis made. This group consists of  patients within the age groups of 60 to 90 and with primary diaagnosis being either Diabetes, Circulatory or respiratory disorders. The most exposed amongst which are patients in their 80's who were diagnosed of Diabetes.\n"
   ]
  },
  {
   "cell_type": "markdown",
   "id": "21c32ad0-cc6a-4873-88d0-9d006f295858",
   "metadata": {},
   "source": [
    "![photo-1538108149393-fbbd81895907](photo-1538108149393-fbbd81895907.jpg)\n",
    "\n"
   ]
  },
  {
   "cell_type": "markdown",
   "id": "bbb22c9a-94fe-4ca4-9991-55c861089358",
   "metadata": {},
   "source": [
    "# 1. 📖 Introduction\n",
    "\n",
    "Hospitals receive as many patients as they can in a day and this number depends on the hospital, the location, the day, and many other unforseen factors. However, usually not up to half of the consultations get admitted. Admission depends on the severity of the patients complaints and the need for care and medical or surgical intervention. \n",
    "Hospital admission means admission of a Covered Person to a hospital as an inpatient for medically necessary and appropriate care and treatment of an Illness or Injury.\n",
    "There are basically two main types of hospital admissions.\n",
    "\n",
    "\n",
    "### Planned admission (Elective)\n",
    "This mode of admission  is where the decision to admit could be separated in time from the actual admission. It is the usual mode of admission in cases that are not immediately life threatening.\n",
    "\n",
    "### Unplanned (urgent) admission\n",
    "This applies where there is involvement of a sudden health issue that warrants consultation at the emergency department or a call for an ambulance.\n",
    "\n",
    "- If your condition is unexpected and you need urgent treatment, you will be admitted through the emergency department on arrival at hospital – this is done through a process known as ‘triage’.\n",
    "- A specialist emergency nurse, called the triage nurse, will assess your condition, provide first aid and work out how quickly you need treatment.\n",
    "- You may be asked to wait in the waiting room. How long you have to wait depends on how busy the emergency department is at the time and whether there are other patients with more serious and urgent conditions than you."
   ]
  },
  {
   "cell_type": "markdown",
   "id": "ec9b7fe4-c90f-4e10-8ea2-7f56a0873914",
   "metadata": {},
   "source": [
    "# 2. Data Collection and Preprocessing"
   ]
  },
  {
   "cell_type": "markdown",
   "id": "10dcc269-3659-4851-99cd-f1ffb7f818aa",
   "metadata": {
    "tags": []
   },
   "source": [
    "## 2.1 💾 The data\n",
    "You have access to ten years of patient information ([source](https://archive.ics.uci.edu/ml/datasets/Diabetes+130-US+hospitals+for+years+1999-2008)):\n",
    "\n",
    "#### Information in the file\n",
    "- \"age\" - age bracket of the patient\n",
    "- \"time_in_hospital\" - days (from 1 to 14)\n",
    "- \"n_procedures\" - number of procedures performed during the hospital stay\n",
    "- \"n_lab_procedures\" - number of laboratory procedures performed during the hospital stay\n",
    "- \"n_medications\" - number of medications administered during the hospital stay\n",
    "- \"n_outpatient\" - number of outpatient visits in the year before a hospital stay\n",
    "- \"n_inpatient\" - number of inpatient visits in the year before the hospital stay\n",
    "- \"n_emergency\" - number of visits to the emergency room in the year before the hospital stay\n",
    "- \"medical_specialty\" - the specialty of the admitting physician\n",
    "- \"diag_1\" - primary diagnosis (Circulatory, Respiratory, Digestive, etc.)\n",
    "- \"diag_2\" - secondary diagnosis\n",
    "- \"diag_3\" - additional secondary diagnosis\n",
    "- \"glucose_test\" - whether the glucose serum came out as high (> 200), normal, or not performed\n",
    "- \"A1Ctest\" - whether the A1C level of the patient came out as high (> 7%), normal, or not performed\n",
    "- \"change\" - whether there was a change in the diabetes medication ('yes' or 'no')\n",
    "- \"diabetes_med\" - whether a diabetes medication was prescribed ('yes' or 'no')\n",
    "- \"readmitted\" - if the patient was readmitted at the hospital ('yes' or 'no') \n",
    "\n",
    "***Acknowledgments**: Beata Strack, Jonathan P. DeShazo, Chris Gennings, Juan L. Olmo, Sebastian Ventura, Krzysztof J. Cios, and John N. Clore, \"Impact of HbA1c Measurement on Hospital Readmission Rates: Analysis of 70,000 Clinical Database Patient Records,\" BioMed Research International, vol. 2014, Article ID 781670, 11 pages, 2014.*"
   ]
  },
  {
   "cell_type": "code",
   "execution_count": 1,
   "id": "9d9ffe1d-4180-4617-8e3f-663426a86573",
   "metadata": {
    "executionTime": 3354,
    "lastSuccessfullyExecutedCode": "# Import dependences\nimport numpy as np\nimport matplotlib.pyplot as plt\nimport seaborn as sns\n%matplotlib inline"
   },
   "outputs": [],
   "source": [
    "# Import dependences\n",
    "import numpy as np\n",
    "import matplotlib.pyplot as plt\n",
    "import seaborn as sns\n",
    "%matplotlib inline"
   ]
  },
  {
   "cell_type": "code",
   "execution_count": 2,
   "id": "40251159-3eea-47f8-bfb4-09e38d5ced65",
   "metadata": {
    "executionTime": 562,
    "lastSuccessfullyExecutedCode": "import pandas as pd\ndf = pd.read_csv('data/hospital_readmissions.csv')\ndf.head()"
   },
   "outputs": [
    {
     "data": {
      "text/html": [
       "<div>\n",
       "<style scoped>\n",
       "    .dataframe tbody tr th:only-of-type {\n",
       "        vertical-align: middle;\n",
       "    }\n",
       "\n",
       "    .dataframe tbody tr th {\n",
       "        vertical-align: top;\n",
       "    }\n",
       "\n",
       "    .dataframe thead th {\n",
       "        text-align: right;\n",
       "    }\n",
       "</style>\n",
       "<table border=\"1\" class=\"dataframe\">\n",
       "  <thead>\n",
       "    <tr style=\"text-align: right;\">\n",
       "      <th></th>\n",
       "      <th>age</th>\n",
       "      <th>time_in_hospital</th>\n",
       "      <th>n_lab_procedures</th>\n",
       "      <th>n_procedures</th>\n",
       "      <th>n_medications</th>\n",
       "      <th>n_outpatient</th>\n",
       "      <th>n_inpatient</th>\n",
       "      <th>n_emergency</th>\n",
       "      <th>medical_specialty</th>\n",
       "      <th>diag_1</th>\n",
       "      <th>diag_2</th>\n",
       "      <th>diag_3</th>\n",
       "      <th>glucose_test</th>\n",
       "      <th>A1Ctest</th>\n",
       "      <th>change</th>\n",
       "      <th>diabetes_med</th>\n",
       "      <th>readmitted</th>\n",
       "    </tr>\n",
       "  </thead>\n",
       "  <tbody>\n",
       "    <tr>\n",
       "      <th>0</th>\n",
       "      <td>[70-80)</td>\n",
       "      <td>8</td>\n",
       "      <td>72</td>\n",
       "      <td>1</td>\n",
       "      <td>18</td>\n",
       "      <td>2</td>\n",
       "      <td>0</td>\n",
       "      <td>0</td>\n",
       "      <td>Missing</td>\n",
       "      <td>Circulatory</td>\n",
       "      <td>Respiratory</td>\n",
       "      <td>Other</td>\n",
       "      <td>no</td>\n",
       "      <td>no</td>\n",
       "      <td>no</td>\n",
       "      <td>yes</td>\n",
       "      <td>no</td>\n",
       "    </tr>\n",
       "    <tr>\n",
       "      <th>1</th>\n",
       "      <td>[70-80)</td>\n",
       "      <td>3</td>\n",
       "      <td>34</td>\n",
       "      <td>2</td>\n",
       "      <td>13</td>\n",
       "      <td>0</td>\n",
       "      <td>0</td>\n",
       "      <td>0</td>\n",
       "      <td>Other</td>\n",
       "      <td>Other</td>\n",
       "      <td>Other</td>\n",
       "      <td>Other</td>\n",
       "      <td>no</td>\n",
       "      <td>no</td>\n",
       "      <td>no</td>\n",
       "      <td>yes</td>\n",
       "      <td>no</td>\n",
       "    </tr>\n",
       "    <tr>\n",
       "      <th>2</th>\n",
       "      <td>[50-60)</td>\n",
       "      <td>5</td>\n",
       "      <td>45</td>\n",
       "      <td>0</td>\n",
       "      <td>18</td>\n",
       "      <td>0</td>\n",
       "      <td>0</td>\n",
       "      <td>0</td>\n",
       "      <td>Missing</td>\n",
       "      <td>Circulatory</td>\n",
       "      <td>Circulatory</td>\n",
       "      <td>Circulatory</td>\n",
       "      <td>no</td>\n",
       "      <td>no</td>\n",
       "      <td>yes</td>\n",
       "      <td>yes</td>\n",
       "      <td>yes</td>\n",
       "    </tr>\n",
       "    <tr>\n",
       "      <th>3</th>\n",
       "      <td>[70-80)</td>\n",
       "      <td>2</td>\n",
       "      <td>36</td>\n",
       "      <td>0</td>\n",
       "      <td>12</td>\n",
       "      <td>1</td>\n",
       "      <td>0</td>\n",
       "      <td>0</td>\n",
       "      <td>Missing</td>\n",
       "      <td>Circulatory</td>\n",
       "      <td>Other</td>\n",
       "      <td>Diabetes</td>\n",
       "      <td>no</td>\n",
       "      <td>no</td>\n",
       "      <td>yes</td>\n",
       "      <td>yes</td>\n",
       "      <td>yes</td>\n",
       "    </tr>\n",
       "    <tr>\n",
       "      <th>4</th>\n",
       "      <td>[60-70)</td>\n",
       "      <td>1</td>\n",
       "      <td>42</td>\n",
       "      <td>0</td>\n",
       "      <td>7</td>\n",
       "      <td>0</td>\n",
       "      <td>0</td>\n",
       "      <td>0</td>\n",
       "      <td>InternalMedicine</td>\n",
       "      <td>Other</td>\n",
       "      <td>Circulatory</td>\n",
       "      <td>Respiratory</td>\n",
       "      <td>no</td>\n",
       "      <td>no</td>\n",
       "      <td>no</td>\n",
       "      <td>yes</td>\n",
       "      <td>no</td>\n",
       "    </tr>\n",
       "  </tbody>\n",
       "</table>\n",
       "</div>"
      ],
      "text/plain": [
       "       age  time_in_hospital  n_lab_procedures  n_procedures  n_medications  \\\n",
       "0  [70-80)                 8                72             1             18   \n",
       "1  [70-80)                 3                34             2             13   \n",
       "2  [50-60)                 5                45             0             18   \n",
       "3  [70-80)                 2                36             0             12   \n",
       "4  [60-70)                 1                42             0              7   \n",
       "\n",
       "   n_outpatient  n_inpatient  n_emergency medical_specialty       diag_1  \\\n",
       "0             2            0            0           Missing  Circulatory   \n",
       "1             0            0            0             Other        Other   \n",
       "2             0            0            0           Missing  Circulatory   \n",
       "3             1            0            0           Missing  Circulatory   \n",
       "4             0            0            0  InternalMedicine        Other   \n",
       "\n",
       "        diag_2       diag_3 glucose_test A1Ctest change diabetes_med  \\\n",
       "0  Respiratory        Other           no      no     no          yes   \n",
       "1        Other        Other           no      no     no          yes   \n",
       "2  Circulatory  Circulatory           no      no    yes          yes   \n",
       "3        Other     Diabetes           no      no    yes          yes   \n",
       "4  Circulatory  Respiratory           no      no     no          yes   \n",
       "\n",
       "  readmitted  \n",
       "0         no  \n",
       "1         no  \n",
       "2        yes  \n",
       "3        yes  \n",
       "4         no  "
      ]
     },
     "execution_count": 2,
     "metadata": {},
     "output_type": "execute_result"
    }
   ],
   "source": [
    "import pandas as pd\n",
    "df = pd.read_csv('data/hospital_readmissions.csv')\n",
    "df.head()"
   ]
  },
  {
   "cell_type": "code",
   "execution_count": 3,
   "id": "07a4480b-9c59-4edf-a970-987a3ea12c56",
   "metadata": {
    "executionTime": 2204,
    "lastSuccessfullyExecutedCode": "print(\"The shape of the dataset is: {} \\n\".format(df.shape))\nprint(\"The columns of the dataset are: {} \\n\".format(df.columns))\nprint(\"The number of duplicate rows: {} \\n\".format(df.duplicated().sum()))\n"
   },
   "outputs": [
    {
     "name": "stdout",
     "output_type": "stream",
     "text": [
      "The shape of the dataset is: (25000, 17) \n",
      "\n",
      "The columns of the dataset are: Index(['age', 'time_in_hospital', 'n_lab_procedures', 'n_procedures',\n",
      "       'n_medications', 'n_outpatient', 'n_inpatient', 'n_emergency',\n",
      "       'medical_specialty', 'diag_1', 'diag_2', 'diag_3', 'glucose_test',\n",
      "       'A1Ctest', 'change', 'diabetes_med', 'readmitted'],\n",
      "      dtype='object') \n",
      "\n",
      "The number of duplicate rows: 0 \n",
      "\n"
     ]
    }
   ],
   "source": [
    "print(\"The shape of the dataset is: {} \\n\".format(df.shape))\n",
    "print(\"The columns of the dataset are: {} \\n\".format(df.columns))\n",
    "print(\"The number of duplicate rows: {} \\n\".format(df.duplicated().sum()))\n"
   ]
  },
  {
   "cell_type": "code",
   "execution_count": 4,
   "id": "ca2d0450-632e-4c03-8895-bfb0fbfbe9e7",
   "metadata": {
    "executionTime": 772,
    "lastSuccessfullyExecutedCode": "df.info()"
   },
   "outputs": [
    {
     "name": "stdout",
     "output_type": "stream",
     "text": [
      "<class 'pandas.core.frame.DataFrame'>\n",
      "RangeIndex: 25000 entries, 0 to 24999\n",
      "Data columns (total 17 columns):\n",
      " #   Column             Non-Null Count  Dtype \n",
      "---  ------             --------------  ----- \n",
      " 0   age                25000 non-null  object\n",
      " 1   time_in_hospital   25000 non-null  int64 \n",
      " 2   n_lab_procedures   25000 non-null  int64 \n",
      " 3   n_procedures       25000 non-null  int64 \n",
      " 4   n_medications      25000 non-null  int64 \n",
      " 5   n_outpatient       25000 non-null  int64 \n",
      " 6   n_inpatient        25000 non-null  int64 \n",
      " 7   n_emergency        25000 non-null  int64 \n",
      " 8   medical_specialty  25000 non-null  object\n",
      " 9   diag_1             25000 non-null  object\n",
      " 10  diag_2             25000 non-null  object\n",
      " 11  diag_3             25000 non-null  object\n",
      " 12  glucose_test       25000 non-null  object\n",
      " 13  A1Ctest            25000 non-null  object\n",
      " 14  change             25000 non-null  object\n",
      " 15  diabetes_med       25000 non-null  object\n",
      " 16  readmitted         25000 non-null  object\n",
      "dtypes: int64(7), object(10)\n",
      "memory usage: 3.2+ MB\n"
     ]
    }
   ],
   "source": [
    "df.info()"
   ]
  },
  {
   "cell_type": "code",
   "execution_count": 5,
   "id": "6fd91efe-4ee2-4ce6-80b5-ca44eee2df18",
   "metadata": {
    "executionTime": 412,
    "lastSuccessfullyExecutedCode": "df.describe()"
   },
   "outputs": [
    {
     "data": {
      "text/html": [
       "<div>\n",
       "<style scoped>\n",
       "    .dataframe tbody tr th:only-of-type {\n",
       "        vertical-align: middle;\n",
       "    }\n",
       "\n",
       "    .dataframe tbody tr th {\n",
       "        vertical-align: top;\n",
       "    }\n",
       "\n",
       "    .dataframe thead th {\n",
       "        text-align: right;\n",
       "    }\n",
       "</style>\n",
       "<table border=\"1\" class=\"dataframe\">\n",
       "  <thead>\n",
       "    <tr style=\"text-align: right;\">\n",
       "      <th></th>\n",
       "      <th>time_in_hospital</th>\n",
       "      <th>n_lab_procedures</th>\n",
       "      <th>n_procedures</th>\n",
       "      <th>n_medications</th>\n",
       "      <th>n_outpatient</th>\n",
       "      <th>n_inpatient</th>\n",
       "      <th>n_emergency</th>\n",
       "    </tr>\n",
       "  </thead>\n",
       "  <tbody>\n",
       "    <tr>\n",
       "      <th>count</th>\n",
       "      <td>25000.00000</td>\n",
       "      <td>25000.00000</td>\n",
       "      <td>25000.000000</td>\n",
       "      <td>25000.000000</td>\n",
       "      <td>25000.000000</td>\n",
       "      <td>25000.000000</td>\n",
       "      <td>25000.000000</td>\n",
       "    </tr>\n",
       "    <tr>\n",
       "      <th>mean</th>\n",
       "      <td>4.45332</td>\n",
       "      <td>43.24076</td>\n",
       "      <td>1.352360</td>\n",
       "      <td>16.252400</td>\n",
       "      <td>0.366400</td>\n",
       "      <td>0.615960</td>\n",
       "      <td>0.186600</td>\n",
       "    </tr>\n",
       "    <tr>\n",
       "      <th>std</th>\n",
       "      <td>3.00147</td>\n",
       "      <td>19.81862</td>\n",
       "      <td>1.715179</td>\n",
       "      <td>8.060532</td>\n",
       "      <td>1.195478</td>\n",
       "      <td>1.177951</td>\n",
       "      <td>0.885873</td>\n",
       "    </tr>\n",
       "    <tr>\n",
       "      <th>min</th>\n",
       "      <td>1.00000</td>\n",
       "      <td>1.00000</td>\n",
       "      <td>0.000000</td>\n",
       "      <td>1.000000</td>\n",
       "      <td>0.000000</td>\n",
       "      <td>0.000000</td>\n",
       "      <td>0.000000</td>\n",
       "    </tr>\n",
       "    <tr>\n",
       "      <th>25%</th>\n",
       "      <td>2.00000</td>\n",
       "      <td>31.00000</td>\n",
       "      <td>0.000000</td>\n",
       "      <td>11.000000</td>\n",
       "      <td>0.000000</td>\n",
       "      <td>0.000000</td>\n",
       "      <td>0.000000</td>\n",
       "    </tr>\n",
       "    <tr>\n",
       "      <th>50%</th>\n",
       "      <td>4.00000</td>\n",
       "      <td>44.00000</td>\n",
       "      <td>1.000000</td>\n",
       "      <td>15.000000</td>\n",
       "      <td>0.000000</td>\n",
       "      <td>0.000000</td>\n",
       "      <td>0.000000</td>\n",
       "    </tr>\n",
       "    <tr>\n",
       "      <th>75%</th>\n",
       "      <td>6.00000</td>\n",
       "      <td>57.00000</td>\n",
       "      <td>2.000000</td>\n",
       "      <td>20.000000</td>\n",
       "      <td>0.000000</td>\n",
       "      <td>1.000000</td>\n",
       "      <td>0.000000</td>\n",
       "    </tr>\n",
       "    <tr>\n",
       "      <th>max</th>\n",
       "      <td>14.00000</td>\n",
       "      <td>113.00000</td>\n",
       "      <td>6.000000</td>\n",
       "      <td>79.000000</td>\n",
       "      <td>33.000000</td>\n",
       "      <td>15.000000</td>\n",
       "      <td>64.000000</td>\n",
       "    </tr>\n",
       "  </tbody>\n",
       "</table>\n",
       "</div>"
      ],
      "text/plain": [
       "       time_in_hospital  n_lab_procedures  n_procedures  n_medications  \\\n",
       "count       25000.00000       25000.00000  25000.000000   25000.000000   \n",
       "mean            4.45332          43.24076      1.352360      16.252400   \n",
       "std             3.00147          19.81862      1.715179       8.060532   \n",
       "min             1.00000           1.00000      0.000000       1.000000   \n",
       "25%             2.00000          31.00000      0.000000      11.000000   \n",
       "50%             4.00000          44.00000      1.000000      15.000000   \n",
       "75%             6.00000          57.00000      2.000000      20.000000   \n",
       "max            14.00000         113.00000      6.000000      79.000000   \n",
       "\n",
       "       n_outpatient   n_inpatient   n_emergency  \n",
       "count  25000.000000  25000.000000  25000.000000  \n",
       "mean       0.366400      0.615960      0.186600  \n",
       "std        1.195478      1.177951      0.885873  \n",
       "min        0.000000      0.000000      0.000000  \n",
       "25%        0.000000      0.000000      0.000000  \n",
       "50%        0.000000      0.000000      0.000000  \n",
       "75%        0.000000      1.000000      0.000000  \n",
       "max       33.000000     15.000000     64.000000  "
      ]
     },
     "execution_count": 5,
     "metadata": {},
     "output_type": "execute_result"
    }
   ],
   "source": [
    "df.describe()"
   ]
  },
  {
   "cell_type": "code",
   "execution_count": 6,
   "id": "e0422ee2-fe75-4a96-b0c2-142aa30655d4",
   "metadata": {
    "executionTime": 2697,
    "lastSuccessfullyExecutedCode": "# Correlation Analysis\nplt.figure(figsize=(10, 6))\nsns.heatmap(df.corr(), annot=True, cmap='viridis')"
   },
   "outputs": [
    {
     "data": {
      "text/plain": [
       "<AxesSubplot:>"
      ]
     },
     "execution_count": 6,
     "metadata": {},
     "output_type": "execute_result"
    },
    {
     "data": {
      "image/png": "[encoded data removed]",
      "text/plain": [
       "<Figure size 720x432 with 2 Axes>"
      ]
     },
     "metadata": {
      "needs_background": "light"
     },
     "output_type": "display_data"
    }
   ],
   "source": [
    "# Correlation Analysis\n",
    "plt.figure(figsize=(10, 6))\n",
    "sns.heatmap(df.corr(), annot=True, cmap='viridis')"
   ]
  },
  {
   "cell_type": "markdown",
   "id": "cd3ccfdf-a62f-4bbb-9d44-7476ab1011e7",
   "metadata": {},
   "source": [
    "# 3. Exploratory Data Analysis"
   ]
  },
  {
   "cell_type": "markdown",
   "id": "5cd47ee2-5a08-44f7-afab-0c36d4f3c489",
   "metadata": {},
   "source": [
    "## 3.1  What age group frequents hospital admissions\n",
    "Age is a risk factor for a group of diseases. Old people are at risk of immunosuppression, bone and muscle atrophy and brain atrophy as well. Meanwhile young children are at risk of bacterial infections of the stomach especially. \n",
    "\n",
    "Hence the problem statement is what age groups are more exposed to hospital admissions and what could be the possible factors attributed to this age group. This will help us distribute resources and improve the care to this group. However, the number of admissions will vary depending on the age group poplulation distribution of the community.\n",
    "\n",
    "The results reveal that the hospital received most admissions from patients within the 70 to 79 age group.This was followed by patients in the 60 to 69 age groups. The least frequent age group that was admitted were patients of the 90 to 99 age group probably because of the low overall population."
   ]
  },
  {
   "cell_type": "code",
   "execution_count": 7,
   "id": "ed1c1e2d-2b31-440b-8f8b-420814a05be8",
   "metadata": {
    "executionTime": 469,
    "lastSuccessfullyExecutedCode": "# Exploring the age column\nx_axis_order = ['[40-50)', '[50-60)', '[60-70)', '[70-80)', '[80-90)', '[90-100)']\nplt.figure(figsize=(10, 5))\nsns.set_style('darkgrid')\nsns.countplot(data=df, x='age', order=x_axis_order)\nplt.title(\"Number of admissions by age group\")\nplt.ylabel(\"Number of Addmissions\")\nplt.xlabel(\"Age Group\")\n"
   },
   "outputs": [
    {
     "data": {
      "text/plain": [
       "Text(0.5, 0, 'Age Group')"
      ]
     },
     "execution_count": 7,
     "metadata": {},
     "output_type": "execute_result"
    },
    {
     "data": {
      "image/png": "[encoded data removed]",
      "text/plain": [
       "<Figure size 720x360 with 1 Axes>"
      ]
     },
     "metadata": {
      "needs_background": "light"
     },
     "output_type": "display_data"
    }
   ],
   "source": [
    "# Exploring the age column\n",
    "x_axis_order = ['[40-50)', '[50-60)', '[60-70)', '[70-80)', '[80-90)', '[90-100)']\n",
    "plt.figure(figsize=(10, 5))\n",
    "sns.set_style('darkgrid')\n",
    "sns.countplot(data=df, x='age', order=x_axis_order)\n",
    "plt.title(\"Number of admissions by age group\")\n",
    "plt.ylabel(\"Number of Addmissions\")\n",
    "plt.xlabel(\"Age Group\")\n"
   ]
  },
  {
   "cell_type": "markdown",
   "id": "1993e064-8177-498e-85d4-5bde702af123",
   "metadata": {},
   "source": [
    "## 3.2 Diagnosis to Age Group\n",
    "There are so many reasons why people consult and get admitted at hospitals. These reason vary with one of the main factor being the age group of patients. Some particular illnessess are perculiar in people of varying age groups. For example, chronic illnesses like hypertension are common in old people meanwhile others like acute appendicitis and intussusception are common in children and infants.\n",
    "The diagnosis of a patient in relation to the age group shall be analysed to visualise the the most prevalent diagnosis for each particular age groups and know how to focus on care and prevent readmissions.\n",
    "The primary diagnosis' involved here include:\n",
    "- <b>Circulatory</b>: Involving the heart and the distribution of blood to organs and tissues: Most common conditions include Heart Failure, Arrythmia, Heart valve complications, Coronary Artery Diseases, Hypertension, Atheroslerosis and others. Patients usually present with fast or slow heartbeats, chest pain, difficulty breathing, syncope or fainting, and general body fatigue.\n",
    "- <b>Respiratory</b>: Conditions involving the respiratory tract from the mose to the lungs. Some include Pneumonia, Tuberculosis, Hemothorax, Pneumothorax, Asthma, Bronchitis and others. Patients usually present with cough, fever, chest pain, dyspnoea, and a cold.\n",
    "- <b>Digestive</b>: Conditions involving the digestive tract from the mouth to the anus and usually include Gastrointestinal bleeding, Intestinal Obstruction, Peritonitis, Acute Appendicitis, Hernias e.t.c. Patients usually complain of vomiting, abdominal pain, constipation, lack of appetite.\n",
    "- <b>Musculoskeletal</b>: Involving the bony and muscular limbs of the body. Could be fractures, bone infections, muscle infections and inflammatory processes. patients usually present with inability to bear weight or to lift. \n",
    "- <b>Injury</b>: Sustained from a traumatic incident and usually presents with painfull wounds on the site of injury. Injury could also be non penetrating with internal bleeding.\n",
    "- <b>Diabetes</b>: Diabetes is a chronic condition caused by reduced production of insulin or increased resistance to insulin, an enzyme necessary for absorption of glucose in the body for energy provision. It usually presents with wounds or ulcers or sometimes assyptomatic.\n",
    "- <b>Other</b>: Other groups of diagnostic conclusions not discussed.\n",
    "\n",
    "The dataset also contains records with missing diagnosis and these records were droped to enhance our analysis\n",
    " "
   ]
  },
  {
   "cell_type": "code",
   "execution_count": 8,
   "id": "3574a4c4-3a92-40d1-b497-93e4882c066d",
   "metadata": {
    "executionTime": 654,
    "lastSuccessfullyExecutedCode": "# Primary Diagnosis by age group\ndf_new = df[df['diag_1'] != 'Missing']\ndf_age = pd.crosstab(index=df_new['age'],\n                             columns=df_new['diag_1'],\n                             normalize=\"index\")\nplt.style.use(style='ggplot')\ndf_age.plot.bar(stacked=True,\n               figsize = (12, 6))\nplt.legend(loc=\"upper left\", bbox_to_anchor=(1.0, 0.5), ncol=1)\nplt.title(\"Primary Diagnosis By Age Group\")\nplt.xlabel(\"Age\")\nplt.ylabel(\"Proportion primary diagnosis\")\nfor n, x in enumerate([*df_age.index.values]):\n    for (proportion, y_loc) in zip(df_age.loc[x],\n                                   df_age.loc[x].cumsum()):\n                \n        plt.text(x=n - 0.17,\n                 y=(y_loc - proportion) + (proportion / 2),\n                 s=f'{np.round(proportion * 100.0, 1)}%', \n                 color=\"black\",\n                 fontsize=8,\n                 fontweight=\"bold\")\n\nplt.show()"
   },
   "outputs": [
    {
     "data": {
      "image/png": "[encoded data removed]",
      "text/plain": [
       "<Figure size 864x432 with 1 Axes>"
      ]
     },
     "metadata": {},
     "output_type": "display_data"
    }
   ],
   "source": [
    "# Primary Diagnosis by age group\n",
    "df_new = df[df['diag_1'] != 'Missing']\n",
    "df_age = pd.crosstab(index=df_new['age'],\n",
    "                             columns=df_new['diag_1'],\n",
    "                             normalize=\"index\")\n",
    "plt.style.use(style='ggplot')\n",
    "df_age.plot.bar(stacked=True,\n",
    "               figsize = (12, 6))\n",
    "plt.legend(loc=\"upper left\", bbox_to_anchor=(1.0, 0.5), ncol=1)\n",
    "plt.title(\"Primary Diagnosis By Age Group\")\n",
    "plt.xlabel(\"Age\")\n",
    "plt.ylabel(\"Proportion primary diagnosis\")\n",
    "for n, x in enumerate([*df_age.index.values]):\n",
    "    for (proportion, y_loc) in zip(df_age.loc[x],\n",
    "                                   df_age.loc[x].cumsum()):\n",
    "                \n",
    "        plt.text(x=n - 0.17,\n",
    "                 y=(y_loc - proportion) + (proportion / 2),\n",
    "                 s=f'{np.round(proportion * 100.0, 1)}%', \n",
    "                 color=\"black\",\n",
    "                 fontsize=8,\n",
    "                 fontweight=\"bold\")\n",
    "\n",
    "plt.show()"
   ]
  },
  {
   "cell_type": "markdown",
   "id": "9eb550b2-1f92-4455-af6f-1289b719557e",
   "metadata": {},
   "source": [
    "The results reveal that the disorders of the circulatory system are most prevalent in all age groups with more that 30% of cases in each age group on average. This is followed by a combination of other systems grouped together like the nervous system, reproductive system, urinary system, and integumentary system. The respiratory system disorders also accounts for many of the admissions into the hospital and hence these systems need to be monitored more closely"
   ]
  },
  {
   "cell_type": "code",
   "execution_count": 9,
   "id": "5c5c422f-c72f-47e5-bf77-9f929ebd1b4a",
   "metadata": {
    "executionTime": 258,
    "lastSuccessfullyExecutedCode": "# How the primary diagnosis are handled \ndf_group = df_new.groupby('diag_1').agg({'n_procedures':'mean',\n                                     'n_lab_procedures':'mean',\n                                     'n_medications':'mean',\n                                     'time_in_hospital':'mean'\n                                    })\ndf_group"
   },
   "outputs": [
    {
     "data": {
      "text/html": [
       "<div>\n",
       "<style scoped>\n",
       "    .dataframe tbody tr th:only-of-type {\n",
       "        vertical-align: middle;\n",
       "    }\n",
       "\n",
       "    .dataframe tbody tr th {\n",
       "        vertical-align: top;\n",
       "    }\n",
       "\n",
       "    .dataframe thead th {\n",
       "        text-align: right;\n",
       "    }\n",
       "</style>\n",
       "<table border=\"1\" class=\"dataframe\">\n",
       "  <thead>\n",
       "    <tr style=\"text-align: right;\">\n",
       "      <th></th>\n",
       "      <th>n_procedures</th>\n",
       "      <th>n_lab_procedures</th>\n",
       "      <th>n_medications</th>\n",
       "      <th>time_in_hospital</th>\n",
       "    </tr>\n",
       "    <tr>\n",
       "      <th>diag_1</th>\n",
       "      <th></th>\n",
       "      <th></th>\n",
       "      <th></th>\n",
       "      <th></th>\n",
       "    </tr>\n",
       "  </thead>\n",
       "  <tbody>\n",
       "    <tr>\n",
       "      <th>Circulatory</th>\n",
       "      <td>1.925230</td>\n",
       "      <td>43.789366</td>\n",
       "      <td>17.055726</td>\n",
       "      <td>4.239136</td>\n",
       "    </tr>\n",
       "    <tr>\n",
       "      <th>Diabetes</th>\n",
       "      <td>1.057813</td>\n",
       "      <td>45.662278</td>\n",
       "      <td>15.448197</td>\n",
       "      <td>4.807098</td>\n",
       "    </tr>\n",
       "    <tr>\n",
       "      <th>Digestive</th>\n",
       "      <td>1.418205</td>\n",
       "      <td>45.325891</td>\n",
       "      <td>14.935595</td>\n",
       "      <td>4.400172</td>\n",
       "    </tr>\n",
       "    <tr>\n",
       "      <th>Injury</th>\n",
       "      <td>1.621849</td>\n",
       "      <td>40.856543</td>\n",
       "      <td>17.561224</td>\n",
       "      <td>4.641657</td>\n",
       "    </tr>\n",
       "    <tr>\n",
       "      <th>Musculoskeletal</th>\n",
       "      <td>1.683706</td>\n",
       "      <td>32.274760</td>\n",
       "      <td>19.861022</td>\n",
       "      <td>3.853834</td>\n",
       "    </tr>\n",
       "    <tr>\n",
       "      <th>Other</th>\n",
       "      <td>0.987842</td>\n",
       "      <td>43.307479</td>\n",
       "      <td>14.850877</td>\n",
       "      <td>4.841644</td>\n",
       "    </tr>\n",
       "    <tr>\n",
       "      <th>Respiratory</th>\n",
       "      <td>0.641848</td>\n",
       "      <td>44.315217</td>\n",
       "      <td>16.416576</td>\n",
       "      <td>4.207609</td>\n",
       "    </tr>\n",
       "  </tbody>\n",
       "</table>\n",
       "</div>"
      ],
      "text/plain": [
       "                 n_procedures  n_lab_procedures  n_medications  \\\n",
       "diag_1                                                           \n",
       "Circulatory          1.925230         43.789366      17.055726   \n",
       "Diabetes             1.057813         45.662278      15.448197   \n",
       "Digestive            1.418205         45.325891      14.935595   \n",
       "Injury               1.621849         40.856543      17.561224   \n",
       "Musculoskeletal      1.683706         32.274760      19.861022   \n",
       "Other                0.987842         43.307479      14.850877   \n",
       "Respiratory          0.641848         44.315217      16.416576   \n",
       "\n",
       "                 time_in_hospital  \n",
       "diag_1                             \n",
       "Circulatory              4.239136  \n",
       "Diabetes                 4.807098  \n",
       "Digestive                4.400172  \n",
       "Injury                   4.641657  \n",
       "Musculoskeletal          3.853834  \n",
       "Other                    4.841644  \n",
       "Respiratory              4.207609  "
      ]
     },
     "execution_count": 9,
     "metadata": {},
     "output_type": "execute_result"
    }
   ],
   "source": [
    "# How the primary diagnosis are handled \n",
    "df_group = df_new.groupby('diag_1').agg({'n_procedures':'mean',\n",
    "                                     'n_lab_procedures':'mean',\n",
    "                                     'n_medications':'mean',\n",
    "                                     'time_in_hospital':'mean'\n",
    "                                    })\n",
    "df_group"
   ]
  },
  {
   "cell_type": "code",
   "execution_count": 10,
   "id": "ab628e82-88f8-42c9-9b50-229dfc9e6ec7",
   "metadata": {
    "executionTime": 2183,
    "lastSuccessfullyExecutedCode": "# Differential Diagnosis\ndf_new['diag_2'].value_counts().plot.bar()\nplt.title(\"Differential Diagnosis Prevalence\")"
   },
   "outputs": [
    {
     "data": {
      "text/plain": [
       "Text(0.5, 1.0, 'Differential Diagnosis Prevalence')"
      ]
     },
     "execution_count": 10,
     "metadata": {},
     "output_type": "execute_result"
    },
    {
     "data": {
      "image/png": "[encoded data removed]",
      "text/plain": [
       "<Figure size 432x288 with 1 Axes>"
      ]
     },
     "metadata": {},
     "output_type": "display_data"
    }
   ],
   "source": [
    "# Differential Diagnosis\n",
    "df_new['diag_2'].value_counts().plot.bar()\n",
    "plt.title(\"Differential Diagnosis Prevalence\")"
   ]
  },
  {
   "cell_type": "markdown",
   "id": "959149d9-91d3-4f89-a65e-b145b558cacb",
   "metadata": {},
   "source": [
    "## 3.3 Readmissions\n",
    "Following hospital discharge patients are at risk of developing both long and short term complications with their healths which usually warrant re-consultation. Depending on the illness, the complications vary with some being more life threatening and immunocompromising. Some common causes and <b>risk factors</b> of hospital readmisions include:\n",
    "\n",
    "NON-MODIFIABLE\n",
    "- old age\n",
    "- Gender\n",
    "- immunosuppression\n",
    "\n",
    "MODIFIABLE\n",
    "- Medication errors or lack of accurate medication history\n",
    "- Medication non-compliance by the patient\n",
    "- Fall injuries\n",
    "- Lack of timely follow up care\n",
    "- Failure to identify post-accurate care needs\n",
    "- Inadequate nutrition\n",
    "- Lack of transportation to access care\n",
    "- Infection\n",
    "- Too early of hospital discharge\n",
    "- Inadequate discussion of palliative or hospice care\n",
    "\n",
    "The data contains information to evaluate the readmission rates according to the age groups and Primary diagnosis which will guide us to know how to focus our prevention strategy in tackling readmissions. Hence the analysis seeks to answer the question: What are the agre groups and the Illnesses at most risk of readmissions.\n",
    "Then the behaviour of these groups shall be accessed to account for an explanation for this exposure."
   ]
  },
  {
   "cell_type": "markdown",
   "id": "d6be9a7e-4f64-483c-94dd-bd85a15f3d1e",
   "metadata": {},
   "source": [
    "#### 3.3.1 By Diagnosis"
   ]
  },
  {
   "cell_type": "markdown",
   "id": "8c7c8f66-3c37-4a00-9b54-de4485b1e199",
   "metadata": {},
   "source": [
    "The diagnosis of a patient is very essential in determinind the probability of readmission due to discrepancies in the nature and severity of the associated complications.\n",
    "\n",
    "Applying this on our analysis provided a leaderboard of readmission rate by diagnosis with <b>Diabetes</b> at the top followed by respiratory and circulatory conditions. This reveals that the complications of diabetes are most at risk of occuring and this is explainable theoritically with diabetes having so many complications as a chronic condition.\n",
    "    \n",
    "The analysis showed that 53.63% of patients diagnosed with diabetes were readmitted which is more than average and as well the overall readmission rate. Diabetes has an involvement in all the other systems of the body. Hence as a means of reducing readmission, the following can be done:\n",
    "- Do clinical evaluation of all systems involved for all admitted diabetic patients.\n",
    "- Place patients on anti-diabetic medications and counsel on its compliance\n",
    "- Advice patients on lifestyle changes such as exercises, dietary lifestyle, cigarette smoking and alcohol consumption.\n",
    "- Encourage regular follo-ups and checks for re-evaluation"
   ]
  },
  {
   "cell_type": "code",
   "execution_count": 11,
   "id": "e7b40896-fd4a-4459-9461-ab06d022ecc7",
   "metadata": {
    "chartConfig": {
     "bar": {
      "hasRoundedCorners": true,
      "stacked": false
     },
     "type": "bar",
     "version": "v1",
     "x": {
      "field": "diag_1",
      "type": "string"
     },
     "y": {
      "field": "Readmission Rate",
      "type": "number"
     }
    },
    "executionTime": 500,
    "lastSuccessfullyExecutedCode": "# Readmission rates\ndf_readmission = df_new[df_new['readmitted'] == 'yes']\ndf_readmission.shape\n\noverall_readmission_rate = (df_readmission.shape[0]/df_new.shape[0] * 100)\n\nprint(\"Overall Readmission Rate: {}\".format((df_readmission.shape[0]/df_new.shape[0] * 100)))\n\nadmission_count = df_new.groupby('diag_1')['diag_1'].count()\nreadmission_count = df_readmission.groupby('diag_1')['diag_1'].count()\nreadmission_perc = round((readmission_count/admission_count) * 100.0, 2)\nreadmissions_summary = pd.DataFrame({'Admissions':admission_count,\n                                    'Readmissions':readmission_count,\n                                    'Readmission Rate':readmission_perc}, index=admission_count.index)\n\nreadmissions_summary.sort_values('Readmission Rate', ascending=False)",
    "visualizeDataframe": false
   },
   "outputs": [
    {
     "name": "stdout",
     "output_type": "stream",
     "text": [
      "Overall Readmission Rate: 47.01552248359738\n"
     ]
    },
    {
     "data": {
      "text/html": [
       "<div>\n",
       "<style scoped>\n",
       "    .dataframe tbody tr th:only-of-type {\n",
       "        vertical-align: middle;\n",
       "    }\n",
       "\n",
       "    .dataframe tbody tr th {\n",
       "        vertical-align: top;\n",
       "    }\n",
       "\n",
       "    .dataframe thead th {\n",
       "        text-align: right;\n",
       "    }\n",
       "</style>\n",
       "<table border=\"1\" class=\"dataframe\">\n",
       "  <thead>\n",
       "    <tr style=\"text-align: right;\">\n",
       "      <th></th>\n",
       "      <th>Admissions</th>\n",
       "      <th>Readmissions</th>\n",
       "      <th>Readmission Rate</th>\n",
       "    </tr>\n",
       "    <tr>\n",
       "      <th>diag_1</th>\n",
       "      <th></th>\n",
       "      <th></th>\n",
       "      <th></th>\n",
       "    </tr>\n",
       "  </thead>\n",
       "  <tbody>\n",
       "    <tr>\n",
       "      <th>Diabetes</th>\n",
       "      <td>1747</td>\n",
       "      <td>937</td>\n",
       "      <td>53.63</td>\n",
       "    </tr>\n",
       "    <tr>\n",
       "      <th>Respiratory</th>\n",
       "      <td>3680</td>\n",
       "      <td>1806</td>\n",
       "      <td>49.08</td>\n",
       "    </tr>\n",
       "    <tr>\n",
       "      <th>Circulatory</th>\n",
       "      <td>7824</td>\n",
       "      <td>3750</td>\n",
       "      <td>47.93</td>\n",
       "    </tr>\n",
       "    <tr>\n",
       "      <th>Digestive</th>\n",
       "      <td>2329</td>\n",
       "      <td>1105</td>\n",
       "      <td>47.45</td>\n",
       "    </tr>\n",
       "    <tr>\n",
       "      <th>Other</th>\n",
       "      <td>6498</td>\n",
       "      <td>2932</td>\n",
       "      <td>45.12</td>\n",
       "    </tr>\n",
       "    <tr>\n",
       "      <th>Injury</th>\n",
       "      <td>1666</td>\n",
       "      <td>727</td>\n",
       "      <td>43.64</td>\n",
       "    </tr>\n",
       "    <tr>\n",
       "      <th>Musculoskeletal</th>\n",
       "      <td>1252</td>\n",
       "      <td>495</td>\n",
       "      <td>39.54</td>\n",
       "    </tr>\n",
       "  </tbody>\n",
       "</table>\n",
       "</div>"
      ],
      "text/plain": [
       "                 Admissions  Readmissions  Readmission Rate\n",
       "diag_1                                                     \n",
       "Diabetes               1747           937             53.63\n",
       "Respiratory            3680          1806             49.08\n",
       "Circulatory            7824          3750             47.93\n",
       "Digestive              2329          1105             47.45\n",
       "Other                  6498          2932             45.12\n",
       "Injury                 1666           727             43.64\n",
       "Musculoskeletal        1252           495             39.54"
      ]
     },
     "execution_count": 11,
     "metadata": {},
     "output_type": "execute_result"
    }
   ],
   "source": [
    "# Readmission rates\n",
    "df_readmission = df_new[df_new['readmitted'] == 'yes']\n",
    "df_readmission.shape\n",
    "\n",
    "overall_readmission_rate = (df_readmission.shape[0]/df_new.shape[0] * 100)\n",
    "\n",
    "print(\"Overall Readmission Rate: {}\".format((df_readmission.shape[0]/df_new.shape[0] * 100)))\n",
    "\n",
    "admission_count = df_new.groupby('diag_1')['diag_1'].count()\n",
    "readmission_count = df_readmission.groupby('diag_1')['diag_1'].count()\n",
    "readmission_perc = round((readmission_count/admission_count) * 100.0, 2)\n",
    "readmissions_summary = pd.DataFrame({'Admissions':admission_count,\n",
    "                                    'Readmissions':readmission_count,\n",
    "                                    'Readmission Rate':readmission_perc}, index=admission_count.index)\n",
    "\n",
    "readmissions_summary.sort_values('Readmission Rate', ascending=False)"
   ]
  },
  {
   "cell_type": "code",
   "execution_count": 12,
   "id": "f0476105-2725-496e-a246-48a1c0fdcd89",
   "metadata": {
    "executionTime": 384,
    "lastSuccessfullyExecutedCode": "ax = readmissions_summary['Readmission Rate'].plot.barh()\nplt.axvline(x = 50, color = 'black', linestyle='dashed', label = '50% Readmission Rate')\nplt.axvline(x = overall_readmission_rate, color = 'gray', linestyle='dashed', label = 'Overall Readmission rate')\nplt.title(\"Readmission Rate By Diagnosis\")\nplt.xlabel('Readmission Rate %')\nplt.ylabel('Primary Diagnosis')\nplt.xlim([0,100])\nplt.legend()\nplt.show()"
   },
   "outputs": [
    {
     "data": {
      "image/png": "[encoded data removed]",
      "text/plain": [
       "<Figure size 432x288 with 1 Axes>"
      ]
     },
     "metadata": {},
     "output_type": "display_data"
    }
   ],
   "source": [
    "ax = readmissions_summary['Readmission Rate'].plot.barh()\n",
    "plt.axvline(x = 50, color = 'black', linestyle='dashed', label = '50% Readmission Rate')\n",
    "plt.axvline(x = overall_readmission_rate, color = 'gray', linestyle='dashed', label = 'Overall Readmission rate')\n",
    "plt.title(\"Readmission Rate By Diagnosis\")\n",
    "plt.xlabel('Readmission Rate %')\n",
    "plt.ylabel('Primary Diagnosis')\n",
    "plt.xlim([0,100])\n",
    "plt.legend()\n",
    "plt.show()"
   ]
  },
  {
   "cell_type": "markdown",
   "id": "f8a67204-e32c-42cf-a43a-534cc6ba93f3",
   "metadata": {},
   "source": []
  },
  {
   "cell_type": "markdown",
   "id": "2b3486df-739b-4e01-b613-e0eb4d6f1caf",
   "metadata": {},
   "source": [
    "#### 3.3.2 By Department"
   ]
  },
  {
   "cell_type": "markdown",
   "id": "45f125fd-a629-4eb5-bf22-bd15842880f4",
   "metadata": {},
   "source": [
    "The Department of the admitted patient plays a role in determination readmission as well. The data reveals hihest rate of readmission for patients admitted by doctors specialised in Family and General Practice followed by the emergrncy and trauma departent. This could be affected by the nature of the cases, degree of care, and also the mode of treatment by these specialties."
   ]
  },
  {
   "cell_type": "code",
   "execution_count": 13,
   "id": "be8f1155-a73b-44f5-a37d-b4af5a36d634",
   "metadata": {
    "executionTime": 683,
    "lastSuccessfullyExecutedCode": "admission_count = df_new.groupby('medical_specialty')['medical_specialty'].count()\nreadmission_count = df_readmission.groupby('medical_specialty')['medical_specialty'].count()\nreadmission_perc = round((readmission_count/admission_count) * 100.0, 2)\nreadmissions_summary = pd.DataFrame({'Admissions':admission_count,\n                                    'Readmissions':readmission_count,\n                                    'Readmission Rate':readmission_perc}, index=admission_count.index)\n\nreadmissions_summary.sort_values('Readmission Rate', ascending=False)"
   },
   "outputs": [
    {
     "data": {
      "text/html": [
       "<div>\n",
       "<style scoped>\n",
       "    .dataframe tbody tr th:only-of-type {\n",
       "        vertical-align: middle;\n",
       "    }\n",
       "\n",
       "    .dataframe tbody tr th {\n",
       "        vertical-align: top;\n",
       "    }\n",
       "\n",
       "    .dataframe thead th {\n",
       "        text-align: right;\n",
       "    }\n",
       "</style>\n",
       "<table border=\"1\" class=\"dataframe\">\n",
       "  <thead>\n",
       "    <tr style=\"text-align: right;\">\n",
       "      <th></th>\n",
       "      <th>Admissions</th>\n",
       "      <th>Readmissions</th>\n",
       "      <th>Readmission Rate</th>\n",
       "    </tr>\n",
       "    <tr>\n",
       "      <th>medical_specialty</th>\n",
       "      <th></th>\n",
       "      <th></th>\n",
       "      <th></th>\n",
       "    </tr>\n",
       "  </thead>\n",
       "  <tbody>\n",
       "    <tr>\n",
       "      <th>Family/GeneralPractice</th>\n",
       "      <td>1882</td>\n",
       "      <td>932</td>\n",
       "      <td>49.52</td>\n",
       "    </tr>\n",
       "    <tr>\n",
       "      <th>Emergency/Trauma</th>\n",
       "      <td>1885</td>\n",
       "      <td>931</td>\n",
       "      <td>49.39</td>\n",
       "    </tr>\n",
       "    <tr>\n",
       "      <th>Missing</th>\n",
       "      <td>12380</td>\n",
       "      <td>6055</td>\n",
       "      <td>48.91</td>\n",
       "    </tr>\n",
       "    <tr>\n",
       "      <th>Cardiology</th>\n",
       "      <td>1409</td>\n",
       "      <td>634</td>\n",
       "      <td>45.00</td>\n",
       "    </tr>\n",
       "    <tr>\n",
       "      <th>InternalMedicine</th>\n",
       "      <td>3565</td>\n",
       "      <td>1596</td>\n",
       "      <td>44.77</td>\n",
       "    </tr>\n",
       "    <tr>\n",
       "      <th>Other</th>\n",
       "      <td>2662</td>\n",
       "      <td>1104</td>\n",
       "      <td>41.47</td>\n",
       "    </tr>\n",
       "    <tr>\n",
       "      <th>Surgery</th>\n",
       "      <td>1213</td>\n",
       "      <td>500</td>\n",
       "      <td>41.22</td>\n",
       "    </tr>\n",
       "  </tbody>\n",
       "</table>\n",
       "</div>"
      ],
      "text/plain": [
       "                        Admissions  Readmissions  Readmission Rate\n",
       "medical_specialty                                                 \n",
       "Family/GeneralPractice        1882           932             49.52\n",
       "Emergency/Trauma              1885           931             49.39\n",
       "Missing                      12380          6055             48.91\n",
       "Cardiology                    1409           634             45.00\n",
       "InternalMedicine              3565          1596             44.77\n",
       "Other                         2662          1104             41.47\n",
       "Surgery                       1213           500             41.22"
      ]
     },
     "execution_count": 13,
     "metadata": {},
     "output_type": "execute_result"
    }
   ],
   "source": [
    "admission_count = df_new.groupby('medical_specialty')['medical_specialty'].count()\n",
    "readmission_count = df_readmission.groupby('medical_specialty')['medical_specialty'].count()\n",
    "readmission_perc = round((readmission_count/admission_count) * 100.0, 2)\n",
    "readmissions_summary = pd.DataFrame({'Admissions':admission_count,\n",
    "                                    'Readmissions':readmission_count,\n",
    "                                    'Readmission Rate':readmission_perc}, index=admission_count.index)\n",
    "\n",
    "readmissions_summary.sort_values('Readmission Rate', ascending=False)"
   ]
  },
  {
   "cell_type": "code",
   "execution_count": 14,
   "id": "98f9288a-3280-43db-b5fe-b4e871cf6c12",
   "metadata": {
    "executionTime": 223,
    "lastSuccessfullyExecutedCode": "ax = readmissions_summary['Readmission Rate'].plot.barh(color='blue')\nplt.axvline(x = 50, color = 'black', linestyle='dashed', label = '50% Readmission Rate')\nplt.axvline(x = overall_readmission_rate, color = 'gray', linestyle='dashed', label = 'Overall Readmission rate')\nplt.title(\"Readmission Rate By Department\")\nplt.xlabel('Readmission Rate %')\nplt.ylabel('Department')\nplt.xlim([0,100])\nplt.legend()\nplt.show()"
   },
   "outputs": [
    {
     "data": {
      "image/png": "[encoded data removed]",
      "text/plain": [
       "<Figure size 432x288 with 1 Axes>"
      ]
     },
     "metadata": {},
     "output_type": "display_data"
    }
   ],
   "source": [
    "ax = readmissions_summary['Readmission Rate'].plot.barh(color='blue')\n",
    "plt.axvline(x = 50, color = 'black', linestyle='dashed', label = '50% Readmission Rate')\n",
    "plt.axvline(x = overall_readmission_rate, color = 'gray', linestyle='dashed', label = 'Overall Readmission rate')\n",
    "plt.title(\"Readmission Rate By Department\")\n",
    "plt.xlabel('Readmission Rate %')\n",
    "plt.ylabel('Department')\n",
    "plt.xlim([0,100])\n",
    "plt.legend()\n",
    "plt.show()"
   ]
  },
  {
   "cell_type": "markdown",
   "id": "83f0ec57-3d28-4b1d-bdb9-50c8f019140e",
   "metadata": {},
   "source": [
    "#### 3.3.3 By age"
   ]
  },
  {
   "cell_type": "markdown",
   "id": "77f15621-e4e1-43d9-be8e-dd21195a2348",
   "metadata": {},
   "source": [
    "The age of the patient is a vital factor in evaluating the probability of readmission. This is because aging is associated with developing certain disorders such as Heart Failure and Stroke which are very complicating and present with numerous readmissions.\n",
    "\n",
    "The analysis revealed the readmission rates by age group and realised that individuals aged 80 to 89 were at highest risk of readmission with a readmission rate of 49.58 %. This was shortly followed by age group 70 to 79(48.79%) and age group 60 to 69 (46.85).\n",
    "Hence how can these age groups be controlled to reduce these rates:\n",
    "- Create screening and follow-up sessions for old people to evaluate their medical conditions.\n",
    "- Control the compliance to medications by old people.\n",
    "- Ensuring patient stays physically active and getting enough rest as well.\n",
    "- Eat healthy food containing fibres and fruits for the immune system."
   ]
  },
  {
   "cell_type": "code",
   "execution_count": 15,
   "id": "81470d5a-ba07-411d-8924-e751b520ae4a",
   "metadata": {
    "executionTime": 126,
    "lastSuccessfullyExecutedCode": "admission_count = df_new.groupby('age')['age'].count()\nreadmission_count = df_readmission.groupby('age')['age'].count()\nreadmission_perc = round((readmission_count/admission_count) * 100.0, 2)\nreadmissions_summary = pd.DataFrame({'Admissions':admission_count,\n                                    'Readmissions':readmission_count,\n                                    'Readmission Rate':readmission_perc}, index=admission_count.index)\n\nreadmissions_summary.sort_values('Readmission Rate', ascending=False)"
   },
   "outputs": [
    {
     "data": {
      "text/html": [
       "<div>\n",
       "<style scoped>\n",
       "    .dataframe tbody tr th:only-of-type {\n",
       "        vertical-align: middle;\n",
       "    }\n",
       "\n",
       "    .dataframe tbody tr th {\n",
       "        vertical-align: top;\n",
       "    }\n",
       "\n",
       "    .dataframe thead th {\n",
       "        text-align: right;\n",
       "    }\n",
       "</style>\n",
       "<table border=\"1\" class=\"dataframe\">\n",
       "  <thead>\n",
       "    <tr style=\"text-align: right;\">\n",
       "      <th></th>\n",
       "      <th>Admissions</th>\n",
       "      <th>Readmissions</th>\n",
       "      <th>Readmission Rate</th>\n",
       "    </tr>\n",
       "    <tr>\n",
       "      <th>age</th>\n",
       "      <th></th>\n",
       "      <th></th>\n",
       "      <th></th>\n",
       "    </tr>\n",
       "  </thead>\n",
       "  <tbody>\n",
       "    <tr>\n",
       "      <th>[80-90)</th>\n",
       "      <td>4514</td>\n",
       "      <td>2238</td>\n",
       "      <td>49.58</td>\n",
       "    </tr>\n",
       "    <tr>\n",
       "      <th>[70-80)</th>\n",
       "      <td>6836</td>\n",
       "      <td>3335</td>\n",
       "      <td>48.79</td>\n",
       "    </tr>\n",
       "    <tr>\n",
       "      <th>[60-70)</th>\n",
       "      <td>5912</td>\n",
       "      <td>2770</td>\n",
       "      <td>46.85</td>\n",
       "    </tr>\n",
       "    <tr>\n",
       "      <th>[40-50)</th>\n",
       "      <td>2532</td>\n",
       "      <td>1127</td>\n",
       "      <td>44.51</td>\n",
       "    </tr>\n",
       "    <tr>\n",
       "      <th>[50-60)</th>\n",
       "      <td>4452</td>\n",
       "      <td>1966</td>\n",
       "      <td>44.16</td>\n",
       "    </tr>\n",
       "    <tr>\n",
       "      <th>[90-100)</th>\n",
       "      <td>750</td>\n",
       "      <td>316</td>\n",
       "      <td>42.13</td>\n",
       "    </tr>\n",
       "  </tbody>\n",
       "</table>\n",
       "</div>"
      ],
      "text/plain": [
       "          Admissions  Readmissions  Readmission Rate\n",
       "age                                                 \n",
       "[80-90)         4514          2238             49.58\n",
       "[70-80)         6836          3335             48.79\n",
       "[60-70)         5912          2770             46.85\n",
       "[40-50)         2532          1127             44.51\n",
       "[50-60)         4452          1966             44.16\n",
       "[90-100)         750           316             42.13"
      ]
     },
     "execution_count": 15,
     "metadata": {},
     "output_type": "execute_result"
    }
   ],
   "source": [
    "admission_count = df_new.groupby('age')['age'].count()\n",
    "readmission_count = df_readmission.groupby('age')['age'].count()\n",
    "readmission_perc = round((readmission_count/admission_count) * 100.0, 2)\n",
    "readmissions_summary = pd.DataFrame({'Admissions':admission_count,\n",
    "                                    'Readmissions':readmission_count,\n",
    "                                    'Readmission Rate':readmission_perc}, index=admission_count.index)\n",
    "\n",
    "readmissions_summary.sort_values('Readmission Rate', ascending=False)"
   ]
  },
  {
   "cell_type": "code",
   "execution_count": 16,
   "id": "0736af04-af22-4c69-b225-a23159f0056e",
   "metadata": {
    "executionTime": 132,
    "lastSuccessfullyExecutedCode": "ax = readmissions_summary['Readmission Rate'].plot.barh(color='green')\nplt.axvline(x = 50, color = 'black', linestyle='dashed', label = '50% Readmission Rate')\nplt.axvline(x = overall_readmission_rate, color = 'gray', linestyle='dashed', label = 'Overall Readmission rate')\nplt.title(\"Readmission Rate By Age\")\nplt.xlabel('Readmission Rate %')\nplt.ylabel('Age')\nplt.xlim([0,100])\nplt.legend()\nplt.show()"
   },
   "outputs": [
    {
     "data": {
      "image/png": "[encoded data removed]",
      "text/plain": [
       "<Figure size 432x288 with 1 Axes>"
      ]
     },
     "metadata": {},
     "output_type": "display_data"
    }
   ],
   "source": [
    "ax = readmissions_summary['Readmission Rate'].plot.barh(color='green')\n",
    "plt.axvline(x = 50, color = 'black', linestyle='dashed', label = '50% Readmission Rate')\n",
    "plt.axvline(x = overall_readmission_rate, color = 'gray', linestyle='dashed', label = 'Overall Readmission rate')\n",
    "plt.title(\"Readmission Rate By Age\")\n",
    "plt.xlabel('Readmission Rate %')\n",
    "plt.ylabel('Age')\n",
    "plt.xlim([0,100])\n",
    "plt.legend()\n",
    "plt.show()"
   ]
  },
  {
   "cell_type": "markdown",
   "id": "f72cca04-6aef-4569-b681-834b6bb81ca2",
   "metadata": {},
   "source": [
    "#### 3.3.4 How about the length of time spent in the hospital?\n"
   ]
  },
  {
   "cell_type": "markdown",
   "id": "c6b4b096-a275-45bd-9cb1-60a5e8c2cacd",
   "metadata": {},
   "source": [
    "When patients get admitted to the hospital, the length of stay is associated with developing complications of prolonged decubitus. These conditions are usually recognised while in hospital and placed on treatment. However, the efficiency of the treatment may not be accurate in some cases so this may play a role in readmission rate. Similarly, patients who are discharged prior to thorough medical treatment are at risk of returning to the hospital for the same condition either of same or different severities. \n",
    "\n",
    "The analysis evaluated the readmission rate by time spent in the hospital and the variance with age groups."
   ]
  },
  {
   "cell_type": "markdown",
   "id": "f030b124-044d-4135-8843-d77ef708b3f8",
   "metadata": {},
   "source": [
    "The probability of readmission is higher in age groups 40 to 70 with longer stays in the hospital. There is no much associated change for ages 70 to 100 which means length of stay is not much of a factor affecting readmission in this group. Hence a suitable strategy to reduce readmission in this group would be:\n",
    "- Relay patients on oral medications following treatment\n",
    "- Discharge patients when criteria of discharge is met"
   ]
  },
  {
   "cell_type": "code",
   "execution_count": 17,
   "id": "e6011a06-ffbc-4a2a-8535-1f1a9138b6b4",
   "metadata": {
    "executionTime": 167,
    "lastSuccessfullyExecutedCode": "sns.boxplot(data = df, x='readmitted', y = 'time_in_hospital', hue='age', hue_order=x_axis_order)\nplt.ylabel(\"Days In Hospital\")\nplt.xlabel(\"Readmission\")\nplt.title(\"Readmission By Time In Hospital And Age\")\nplt.legend(loc=\"upper left\", bbox_to_anchor=(1.0, 0.5), ncol=1)"
   },
   "outputs": [
    {
     "data": {
      "text/plain": [
       "<matplotlib.legend.Legend at 0x22542549760>"
      ]
     },
     "execution_count": 17,
     "metadata": {},
     "output_type": "execute_result"
    },
    {
     "data": {
      "image/png": "[encoded data removed]",
      "text/plain": [
       "<Figure size 432x288 with 1 Axes>"
      ]
     },
     "metadata": {},
     "output_type": "display_data"
    }
   ],
   "source": [
    "sns.boxplot(data = df, x='readmitted', y = 'time_in_hospital', hue='age', hue_order=x_axis_order)\n",
    "plt.ylabel(\"Days In Hospital\")\n",
    "plt.xlabel(\"Readmission\")\n",
    "plt.title(\"Readmission By Time In Hospital And Age\")\n",
    "plt.legend(loc=\"upper left\", bbox_to_anchor=(1.0, 0.5), ncol=1)"
   ]
  },
  {
   "cell_type": "markdown",
   "id": "393ec59f-a593-4475-85e6-74ad6daca09c",
   "metadata": {},
   "source": [
    "# 4. Diabetes"
   ]
  },
  {
   "cell_type": "markdown",
   "id": "9077bc0f-f1ad-40f6-9bc1-501f763d42e1",
   "metadata": {},
   "source": [
    "Also called Diabetes Mellitus, is a group of diseases that result in too much sugar in blood (high blood glucose).\n",
    "There are two main types of diabetes: Type I Diabetes mellitus due to decrease insulin production, and Type II Diabetes Mellitus due to increased insulin resistance. Insulin is a hormone neccesary for absorbing glucose and its absence leads to high bllod glucose called diabetes. Patients usually discover it upon screening as it presents assymptomatically. However, it has lots of complications and depending on the system involved the presentations are different. \n",
    "Patients with diabetes are usually placed on anti-diabetic drugs which are mostly lifelong acting as a barrier to drug compliance.\n",
    "For a diagnosis of diabetes to be made on screening, several paraclinical tests can be done and the result exceeding a certain threshold value can help us diagnose diabetes.\n",
    "- Glycaeted Haemoglobin test(A1Ctest) > 6.5%\n",
    "- Fasting Blood Glucose > 126mg/ml/24hrs\n",
    "- Random Blood Sugar > 200mg/ml/day\n",
    "\n",
    "The readmission rate for patients diagnosed with diabetes was observed to be high above average. Probable factors that could be accountable for that in the data and will be analysed include:\n",
    "- Patient compliance to medication\n",
    "- Changing of medications prescribed\n",
    "- Assessment of complications"
   ]
  },
  {
   "cell_type": "markdown",
   "id": "201484f1-5e8a-4c5e-adc0-951e7d47ca4f",
   "metadata": {},
   "source": [
    "## 4.1 Effect of Medication On Readmission Rates"
   ]
  },
  {
   "cell_type": "code",
   "execution_count": 18,
   "id": "1d3a689a-67a8-444f-a433-ff30c018263e",
   "metadata": {
    "executionTime": 1105,
    "lastSuccessfullyExecutedCode": "# diabetes patients as primary diagnosis\ndf_diabetes = df[df['diag_1'] == 'Diabetes']\n\n# Effect of diabetes medication on readmission rate\nmed = df_diabetes.groupby(['diabetes_med', 'readmitted'])['readmitted'].count().unstack('readmitted')\nplt.figure(figsize=(8,4))\nplt.style.use('bmh')\nmed.plot.bar()\nplt.xlabel(\"Diabetes Medication Given\")\nplt.ylabel(\"Count\")\nplt.title(\"Effect Of Diabetes Medication On Readmission Rates\", size=15)\nplt.show()"
   },
   "outputs": [
    {
     "data": {
      "text/plain": [
       "<Figure size 576x288 with 0 Axes>"
      ]
     },
     "metadata": {},
     "output_type": "display_data"
    },
    {
     "data": {
      "image/png": "[encoded data removed]",
      "text/plain": [
       "<Figure size 432x288 with 1 Axes>"
      ]
     },
     "metadata": {},
     "output_type": "display_data"
    }
   ],
   "source": [
    "# diabetes patients as primary diagnosis\n",
    "df_diabetes = df[df['diag_1'] == 'Diabetes']\n",
    "\n",
    "# Effect of diabetes medication on readmission rate\n",
    "med = df_diabetes.groupby(['diabetes_med', 'readmitted'])['readmitted'].count().unstack('readmitted')\n",
    "plt.figure(figsize=(8,4))\n",
    "plt.style.use('bmh')\n",
    "med.plot.bar()\n",
    "plt.xlabel(\"Diabetes Medication Given\")\n",
    "plt.ylabel(\"Count\")\n",
    "plt.title(\"Effect Of Diabetes Medication On Readmission Rates\", size=15)\n",
    "plt.show()"
   ]
  },
  {
   "cell_type": "markdown",
   "id": "11933b52-6d55-4543-8a62-a17d837aab07",
   "metadata": {},
   "source": [
    "This reveals that readmission rates for patients not on medication and those on medications are higher than the non-readmitted proportion.\n",
    "Hence this should be monitored to improve on:\n",
    "- The quality of medication used\n",
    "- The posology of drug administration\n",
    "- The compliance to medication"
   ]
  },
  {
   "cell_type": "markdown",
   "id": "54bbadba-f5b2-4442-a8df-c264214f6063",
   "metadata": {},
   "source": [
    "## 4.2 Effect Of Medication Change on Readmission Rates"
   ]
  },
  {
   "cell_type": "code",
   "execution_count": 19,
   "id": "b0ff0163-13b8-4c60-9671-fda61bdfa52e",
   "metadata": {
    "executionTime": 408,
    "lastSuccessfullyExecutedCode": "# Effect of changing diabetes medication on readmission rate\nchange = df_diabetes.groupby(['change', 'readmitted'])['readmitted'].count().unstack('readmitted')\nchange.plot.bar()\nplt.xlabel(\"Diabetes Medication Change\")\nplt.ylabel(\"Count\")\nplt.title(\"Effect Of Diabetes Medication Change Readmission Rates\", size=15)\nplt.show()"
   },
   "outputs": [
    {
     "data": {
      "image/png": "[encoded data removed]",
      "text/plain": [
       "<Figure size 432x288 with 1 Axes>"
      ]
     },
     "metadata": {},
     "output_type": "display_data"
    }
   ],
   "source": [
    "# Effect of changing diabetes medication on readmission rate\n",
    "change = df_diabetes.groupby(['change', 'readmitted'])['readmitted'].count().unstack('readmitted')\n",
    "change.plot.bar()\n",
    "plt.xlabel(\"Diabetes Medication Change\")\n",
    "plt.ylabel(\"Count\")\n",
    "plt.title(\"Effect Of Diabetes Medication Change Readmission Rates\", size=15)\n",
    "plt.show()"
   ]
  },
  {
   "cell_type": "markdown",
   "id": "fa3686ae-d6c7-45d7-b199-dbf2fca8081a",
   "metadata": {},
   "source": [
    "Similarly, changing medications revealed no improvement on readmission rates and therefore analysis of the types of medications administered should be done and evaluated."
   ]
  },
  {
   "cell_type": "markdown",
   "id": "1e1ad26f-820e-49e8-8f93-8b3535e73af0",
   "metadata": {},
   "source": [
    "## 4.3 Diabetes Complications\n",
    "The complications of diabetes can be grouoed into two: Acute and Chronic complications:\n",
    "\n",
    "<b>Acute Complications</b>\n",
    "These refers to the short term complications of diabetes which are of two main classes:\n",
    "- Hyperglycemic Hyperosmolar state involving mostly the digestive system\n",
    "- Diabetic Ketoacidosis involving the nervous system\n",
    "\n",
    "<b>Chronic Complications</b>\n",
    "These are long term complications which can be grouped into macrovascular and microvascular complications\n",
    "\n",
    "- Macrovascular: - Angina Pectoris\n",
    "                                - Stroke\n",
    "                                - Peripheral arterial diseases\n",
    "\n",
    "\n",
    "- Microvascular: - Retinopathy\n",
    "                                - Nephropathy\n",
    "                                - Neuropathy\n",
    "\n",
    "These complications are widely distributed accross the various systems of the body and are life threatening. \n",
    "The analysis will help recommend patients on nutritional therapy, lifestyle changes and mental buildup to prevent readmissions."
   ]
  },
  {
   "cell_type": "code",
   "execution_count": 20,
   "id": "6b5ded77-bdc1-4008-8bcc-7c5c9708d3ab",
   "metadata": {
    "executionTime": 150,
    "lastSuccessfullyExecutedCode": "high_glucose = df_new[((df_new['A1Ctest'] == 'high') | (df_new['glucose_test'] == 'high')) & \n                      (df_new['diag_1'] != 'Diabetes')]\nplt.style.use('ggplot')\ncomplications = high_glucose['diag_1'].value_counts()\ncomplications.plot.pie(explode = [0.1, 0, 0, 0, 0, 0], \n                       autopct='%.1f', \n                       startangle = 0,\n                      shadow= True,\n                      title = \"Complications of Diabetes\")\nplt.ylabel(\"\")\nplt.show()\n\n"
   },
   "outputs": [
    {
     "data": {
      "image/png": "[encoded data removed]",
      "text/plain": [
       "<Figure size 432x288 with 1 Axes>"
      ]
     },
     "metadata": {},
     "output_type": "display_data"
    }
   ],
   "source": [
    "high_glucose = df_new[((df_new['A1Ctest'] == 'high') | (df_new['glucose_test'] == 'high')) & \n",
    "                      (df_new['diag_1'] != 'Diabetes')]\n",
    "plt.style.use('ggplot')\n",
    "complications = high_glucose['diag_1'].value_counts()\n",
    "complications.plot.pie(explode = [0.1, 0, 0, 0, 0, 0], \n",
    "                       autopct='%.1f', \n",
    "                       startangle = 0,\n",
    "                      shadow= True,\n",
    "                      title = \"Complications of Diabetes\")\n",
    "plt.ylabel(\"\")\n",
    "plt.show()\n",
    "\n"
   ]
  },
  {
   "cell_type": "markdown",
   "id": "60fc439f-0751-44b5-89d4-1ae68532f8f2",
   "metadata": {},
   "source": [
    "The results show that the complications of diabetes are most associated with diseases of the Circulatory System, then The Respiratory and digestive systems and others like the nervous system. Hence to control the diabetes in patients enbodies controling and evaluating the circulatory system most and all other systems to prevent complications.\n",
    "- Personal and environmental hygiene\n",
    "- mental health care\n",
    "- nutritional habits\n",
    "- Exercise adherence"
   ]
  },
  {
   "cell_type": "markdown",
   "id": "c3866c90-e379-467b-b37e-082b1fcd4fb0",
   "metadata": {},
   "source": [
    "## 4.4 Can we predict Readmission in Diabetic Patients?\n"
   ]
  },
  {
   "cell_type": "markdown",
   "id": "3d82bf23-6a7f-4227-b2c9-7f812722a188",
   "metadata": {},
   "source": [
    "The rate of readmission in Diabetics is high so how then can we predict the risk of readmission in patients these patients using some particular features. This will help us identify cases more at risk of readmission and control them.\n",
    "\n",
    "The features used for the predictive analysis were medication change, presence or absence of medication, glucose test, and A1Ctest. These features were used because of their relevance in diabetes. A Logistic regression model created to predict readmission was used with an accuracy score of about 53% obtained."
   ]
  },
  {
   "cell_type": "code",
   "execution_count": 21,
   "id": "624ff8d6-8399-44b7-a3d3-f866dd4dadc8",
   "metadata": {
    "executionTime": 0,
    "lastSuccessfullyExecutedCode": "# Predicting readmission in diabetic patients\nfrom sklearn.linear_model import LogisticRegression\nfrom sklearn.neighbors import KNeighborsClassifier\nfrom sklearn.model_selection import train_test_split\nfrom sklearn.preprocessing import LabelEncoder, StandardScaler\nfrom sklearn.metrics import r2_score, confusion_matrix"
   },
   "outputs": [],
   "source": [
    "# Predicting readmission in diabetic patients\n",
    "from sklearn.linear_model import LogisticRegression\n",
    "from sklearn.neighbors import KNeighborsClassifier\n",
    "from sklearn.model_selection import train_test_split\n",
    "from sklearn.preprocessing import LabelEncoder, StandardScaler\n",
    "from sklearn.metrics import r2_score, confusion_matrix"
   ]
  },
  {
   "cell_type": "code",
   "execution_count": 22,
   "id": "615db43e-214d-41b9-8c9d-769874a38bbd",
   "metadata": {
    "executionTime": 114,
    "lastSuccessfullyExecutedCode": "df_diabetes.columns"
   },
   "outputs": [
    {
     "data": {
      "text/plain": [
       "Index(['age', 'time_in_hospital', 'n_lab_procedures', 'n_procedures',\n",
       "       'n_medications', 'n_outpatient', 'n_inpatient', 'n_emergency',\n",
       "       'medical_specialty', 'diag_1', 'diag_2', 'diag_3', 'glucose_test',\n",
       "       'A1Ctest', 'change', 'diabetes_med', 'readmitted'],\n",
       "      dtype='object')"
      ]
     },
     "execution_count": 22,
     "metadata": {},
     "output_type": "execute_result"
    }
   ],
   "source": [
    "df_diabetes.columns"
   ]
  },
  {
   "cell_type": "code",
   "execution_count": 23,
   "id": "2b1d56ed-5f29-46ff-add0-517d692853b5",
   "metadata": {
    "executionTime": 213,
    "lastSuccessfullyExecutedCode": "columns_to_encode = ['age', 'medical_specialty', 'diag_2', 'diag_3', 'A1Ctest', 'change', 'glucose_test','diabetes_med', 'readmitted']\n\nlabelencoder = LabelEncoder()\ndf_diabetes[columns_to_encode]= df_diabetes[columns_to_encode].apply(labelencoder.fit_transform)\n\nX = df_diabetes[['change', 'A1Ctest', 'glucose_test', 'diabetes_med']]\ny = df_diabetes[['readmitted']]\n\nX_train, X_test, y_train, y_test = train_test_split(X, y, test_size=0.3, random_state=0)\n\nX_train_scaled = StandardScaler().fit_transform(X_train)\nX_test_scaled = StandardScaler().fit_transform(X_test)\n\nmodel = LogisticRegression()\nmodel.fit(X_train_scaled, y_train)"
   },
   "outputs": [
    {
     "name": "stderr",
     "output_type": "stream",
     "text": [
      "C:\\Users\\Boss Man\\anaconda3\\lib\\site-packages\\pandas\\core\\frame.py:3641: SettingWithCopyWarning: \n",
      "A value is trying to be set on a copy of a slice from a DataFrame.\n",
      "Try using .loc[row_indexer,col_indexer] = value instead\n",
      "\n",
      "See the caveats in the documentation: https://pandas.pydata.org/pandas-docs/stable/user_guide/indexing.html#returning-a-view-versus-a-copy\n",
      "  self[k1] = value[k2]\n",
      "C:\\Users\\Boss Man\\anaconda3\\lib\\site-packages\\sklearn\\utils\\validation.py:1111: DataConversionWarning: A column-vector y was passed when a 1d array was expected. Please change the shape of y to (n_samples, ), for example using ravel().\n",
      "  y = column_or_1d(y, warn=True)\n"
     ]
    },
    {
     "data": {
      "text/html": [
       "<style>#sk-container-id-1 {color: black;background-color: white;}#sk-container-id-1 pre{padding: 0;}#sk-container-id-1 div.sk-toggleable {background-color: white;}#sk-container-id-1 label.sk-toggleable__label {cursor: pointer;display: block;width: 100%;margin-bottom: 0;padding: 0.3em;box-sizing: border-box;text-align: center;}#sk-container-id-1 label.sk-toggleable__label-arrow:before {content: \"▸\";float: left;margin-right: 0.25em;color: #696969;}#sk-container-id-1 label.sk-toggleable__label-arrow:hover:before {color: black;}#sk-container-id-1 div.sk-estimator:hover label.sk-toggleable__label-arrow:before {color: black;}#sk-container-id-1 div.sk-toggleable__content {max-height: 0;max-width: 0;overflow: hidden;text-align: left;background-color: #f0f8ff;}#sk-container-id-1 div.sk-toggleable__content pre {margin: 0.2em;color: black;border-radius: 0.25em;background-color: #f0f8ff;}#sk-container-id-1 input.sk-toggleable__control:checked~div.sk-toggleable__content {max-height: 200px;max-width: 100%;overflow: auto;}#sk-container-id-1 input.sk-toggleable__control:checked~label.sk-toggleable__label-arrow:before {content: \"▾\";}#sk-container-id-1 div.sk-estimator input.sk-toggleable__control:checked~label.sk-toggleable__label {background-color: #d4ebff;}#sk-container-id-1 div.sk-label input.sk-toggleable__control:checked~label.sk-toggleable__label {background-color: #d4ebff;}#sk-container-id-1 input.sk-hidden--visually {border: 0;clip: rect(1px 1px 1px 1px);clip: rect(1px, 1px, 1px, 1px);height: 1px;margin: -1px;overflow: hidden;padding: 0;position: absolute;width: 1px;}#sk-container-id-1 div.sk-estimator {font-family: monospace;background-color: #f0f8ff;border: 1px dotted black;border-radius: 0.25em;box-sizing: border-box;margin-bottom: 0.5em;}#sk-container-id-1 div.sk-estimator:hover {background-color: #d4ebff;}#sk-container-id-1 div.sk-parallel-item::after {content: \"\";width: 100%;border-bottom: 1px solid gray;flex-grow: 1;}#sk-container-id-1 div.sk-label:hover label.sk-toggleable__label {background-color: #d4ebff;}#sk-container-id-1 div.sk-serial::before {content: \"\";position: absolute;border-left: 1px solid gray;box-sizing: border-box;top: 0;bottom: 0;left: 50%;z-index: 0;}#sk-container-id-1 div.sk-serial {display: flex;flex-direction: column;align-items: center;background-color: white;padding-right: 0.2em;padding-left: 0.2em;position: relative;}#sk-container-id-1 div.sk-item {position: relative;z-index: 1;}#sk-container-id-1 div.sk-parallel {display: flex;align-items: stretch;justify-content: center;background-color: white;position: relative;}#sk-container-id-1 div.sk-item::before, #sk-container-id-1 div.sk-parallel-item::before {content: \"\";position: absolute;border-left: 1px solid gray;box-sizing: border-box;top: 0;bottom: 0;left: 50%;z-index: -1;}#sk-container-id-1 div.sk-parallel-item {display: flex;flex-direction: column;z-index: 1;position: relative;background-color: white;}#sk-container-id-1 div.sk-parallel-item:first-child::after {align-self: flex-end;width: 50%;}#sk-container-id-1 div.sk-parallel-item:last-child::after {align-self: flex-start;width: 50%;}#sk-container-id-1 div.sk-parallel-item:only-child::after {width: 0;}#sk-container-id-1 div.sk-dashed-wrapped {border: 1px dashed gray;margin: 0 0.4em 0.5em 0.4em;box-sizing: border-box;padding-bottom: 0.4em;background-color: white;}#sk-container-id-1 div.sk-label label {font-family: monospace;font-weight: bold;display: inline-block;line-height: 1.2em;}#sk-container-id-1 div.sk-label-container {text-align: center;}#sk-container-id-1 div.sk-container {/* jupyter's `normalize.less` sets `[hidden] { display: none; }` but bootstrap.min.css set `[hidden] { display: none !important; }` so we also need the `!important` here to be able to override the default hidden behavior on the sphinx rendered scikit-learn.org. See: https://github.com/scikit-learn/scikit-learn/issues/21755 */display: inline-block !important;position: relative;}#sk-container-id-1 div.sk-text-repr-fallback {display: none;}</style><div id=\"sk-container-id-1\" class=\"sk-top-container\"><div class=\"sk-text-repr-fallback\"><pre>LogisticRegression()</pre><b>In a Jupyter environment, please rerun this cell to show the HTML representation or trust the notebook. <br />On GitHub, the HTML representation is unable to render, please try loading this page with nbviewer.org.</b></div><div class=\"sk-container\" hidden><div class=\"sk-item\"><div class=\"sk-estimator sk-toggleable\"><input class=\"sk-toggleable__control sk-hidden--visually\" id=\"sk-estimator-id-1\" type=\"checkbox\" checked><label for=\"sk-estimator-id-1\" class=\"sk-toggleable__label sk-toggleable__label-arrow\">LogisticRegression</label><div class=\"sk-toggleable__content\"><pre>LogisticRegression()</pre></div></div></div></div></div>"
      ],
      "text/plain": [
       "LogisticRegression()"
      ]
     },
     "execution_count": 23,
     "metadata": {},
     "output_type": "execute_result"
    }
   ],
   "source": [
    "columns_to_encode = ['age', 'medical_specialty', 'diag_2', 'diag_3', 'A1Ctest', 'change', 'glucose_test','diabetes_med', 'readmitted']\n",
    "\n",
    "labelencoder = LabelEncoder()\n",
    "df_diabetes[columns_to_encode]= df_diabetes[columns_to_encode].apply(labelencoder.fit_transform)\n",
    "\n",
    "X = df_diabetes[['change', 'A1Ctest', 'glucose_test', 'diabetes_med']]\n",
    "y = df_diabetes[['readmitted']]\n",
    "\n",
    "X_train, X_test, y_train, y_test = train_test_split(X, y, test_size=0.3, random_state=0)\n",
    "\n",
    "X_train_scaled = StandardScaler().fit_transform(X_train)\n",
    "X_test_scaled = StandardScaler().fit_transform(X_test)\n",
    "\n",
    "model = LogisticRegression()\n",
    "model.fit(X_train_scaled, y_train)"
   ]
  },
  {
   "cell_type": "code",
   "execution_count": 24,
   "id": "b9241c88-201c-476c-adac-c5597578db21",
   "metadata": {
    "executionTime": 130,
    "lastSuccessfullyExecutedCode": "df['readmitted'].value_counts()"
   },
   "outputs": [
    {
     "data": {
      "text/plain": [
       "no     13246\n",
       "yes    11754\n",
       "Name: readmitted, dtype: int64"
      ]
     },
     "execution_count": 24,
     "metadata": {},
     "output_type": "execute_result"
    }
   ],
   "source": [
    "df['readmitted'].value_counts()"
   ]
  },
  {
   "cell_type": "code",
   "execution_count": 25,
   "id": "6e1c6fdf-ec0e-4b8d-a981-a9c2eede430d",
   "metadata": {
    "executionTime": 0,
    "lastSuccessfullyExecutedCode": "df_diabetes = df_diabetes.drop('diag_1', axis=1)"
   },
   "outputs": [],
   "source": [
    "df_diabetes = df_diabetes.drop('diag_1', axis=1)"
   ]
  },
  {
   "cell_type": "code",
   "execution_count": 26,
   "id": "a54bc69b-9568-4a15-adcd-8006f42b769c",
   "metadata": {
    "executionTime": 110,
    "lastSuccessfullyExecutedCode": "from sklearn import metrics\ny_pred = model.predict(X_test_scaled)\nmse = metrics.accuracy_score(y_test, y_pred)\nprint(mse)"
   },
   "outputs": [
    {
     "name": "stdout",
     "output_type": "stream",
     "text": [
      "0.5333333333333333\n"
     ]
    }
   ],
   "source": [
    "from sklearn import metrics\n",
    "y_pred = model.predict(X_test_scaled)\n",
    "mse = metrics.accuracy_score(y_test, y_pred)\n",
    "print(mse)"
   ]
  },
  {
   "cell_type": "markdown",
   "id": "e6ba54be-312c-46e6-abdf-ff4aa058f6be",
   "metadata": {},
   "source": [
    "# 5. Segmentation of Patient groups"
   ]
  },
  {
   "cell_type": "markdown",
   "id": "940edbf2-7eac-46f2-ad3f-d4a705527c32",
   "metadata": {},
   "source": [
    "## 5.1 Segments\n",
    "In order to enhance the prevention of readmissions at the hospital, patients at risk need to be identified and well monitored. The patients most at risk are the patients with higher readmission rates and who have a higher probability of future possible readmission. \n",
    "\n",
    "The groups of patients were segmented into 4 groups based on two main features using a Kmeans clustering algorithm: Age group and Primary Diagnosis in association with readmission rates.\n",
    "- Severe group - with highest probability of readmission\n",
    "- Moderate group\n",
    "- Mild group\n",
    "- Very mild group - with least probability of readmission\n",
    "\n",
    "Our final group of patients shall be a combination of the Severe and Moderate groups as the focus groups for intervention\n"
   ]
  },
  {
   "cell_type": "code",
   "execution_count": 27,
   "id": "55e4cd4f-aca6-4849-a288-e81a62570ae9",
   "metadata": {
    "executionTime": 0,
    "lastSuccessfullyExecutedCode": "from sklearn.cluster import KMeans\nfrom sklearn.preprocessing import StandardScaler"
   },
   "outputs": [],
   "source": [
    "from sklearn.cluster import KMeans\n",
    "from sklearn.preprocessing import StandardScaler"
   ]
  },
  {
   "cell_type": "code",
   "execution_count": 28,
   "id": "fd9064d7-f2cf-4b0f-8995-fe68b615e3d4",
   "metadata": {
    "executionTime": 171,
    "lastSuccessfullyExecutedCode": "df_model = df_new[['age', 'diag_1', 'readmitted']].apply(LabelEncoder().fit_transform)\nscaled_features = StandardScaler().fit_transform(df_model)\nkmeans_kwargs = {\n    \"init\":'random',\n    \"n_init\":10,\n    \"max_iter\":300,\n    \"random_state\":42\n}\n\n# A list to hold the SSE values for each k\nsse = []\nfor k in range(1, 20):\n    kmeans = KMeans(n_clusters = k, **kmeans_kwargs)\n    kmeans.fit(scaled_features)\n    sse.append(kmeans.inertia_)\nplt.style.use(\"fivethirtyeight\")\nplt.plot(range(1, 20), sse)\nplt.xticks(range(1, 20))\nplt.xlabel(\"Number of Clusters\")\nplt.ylabel(\"SSE\")\nplt.show()"
   },
   "outputs": [
    {
     "data": {
      "image/png": "[encoded data removed]",
      "text/plain": [
       "<Figure size 432x288 with 1 Axes>"
      ]
     },
     "metadata": {},
     "output_type": "display_data"
    }
   ],
   "source": [
    "df_model = df_new[['age', 'diag_1', 'readmitted']].apply(LabelEncoder().fit_transform)\n",
    "scaled_features = StandardScaler().fit_transform(df_model)\n",
    "kmeans_kwargs = {\n",
    "    \"init\":'random',\n",
    "    \"n_init\":10,\n",
    "    \"max_iter\":300,\n",
    "    \"random_state\":42\n",
    "}\n",
    "\n",
    "# A list to hold the SSE values for each k\n",
    "sse = []\n",
    "for k in range(1, 20):\n",
    "    kmeans = KMeans(n_clusters = k, **kmeans_kwargs)\n",
    "    kmeans.fit(scaled_features)\n",
    "    sse.append(kmeans.inertia_)\n",
    "plt.style.use(\"fivethirtyeight\")\n",
    "plt.plot(range(1, 20), sse)\n",
    "plt.xticks(range(1, 20))\n",
    "plt.xlabel(\"Number of Clusters\")\n",
    "plt.ylabel(\"SSE\")\n",
    "plt.show()"
   ]
  },
  {
   "cell_type": "code",
   "execution_count": 29,
   "id": "af9c91e6-3bea-4d5f-8341-9f34fe1d9d63",
   "metadata": {
    "executionTime": 0,
    "lastSuccessfullyExecutedCode": "kmeans = KMeans(n_clusters = 4, **kmeans_kwargs)\nkmeans.fit(scaled_features)\n\ny_predicted = kmeans.predict(scaled_features)"
   },
   "outputs": [],
   "source": [
    "kmeans = KMeans(n_clusters = 4, **kmeans_kwargs)\n",
    "kmeans.fit(scaled_features)\n",
    "\n",
    "y_predicted = kmeans.predict(scaled_features)"
   ]
  },
  {
   "cell_type": "code",
   "execution_count": 30,
   "id": "0e43f40b-7b9e-4370-ae94-b3a634c956ba",
   "metadata": {
    "executionTime": 206,
    "lastSuccessfullyExecutedCode": "df_new['cluster'] = y_predicted\ndf_new.groupby(['cluster', 'readmitted'])['readmitted'].count().sort_values()"
   },
   "outputs": [
    {
     "name": "stderr",
     "output_type": "stream",
     "text": [
      "C:\\Users\\BOSSMA~1\\AppData\\Local\\Temp/ipykernel_2416/2932340116.py:1: SettingWithCopyWarning: \n",
      "A value is trying to be set on a copy of a slice from a DataFrame.\n",
      "Try using .loc[row_indexer,col_indexer] = value instead\n",
      "\n",
      "See the caveats in the documentation: https://pandas.pydata.org/pandas-docs/stable/user_guide/indexing.html#returning-a-view-versus-a-copy\n",
      "  df_new['cluster'] = y_predicted\n"
     ]
    },
    {
     "data": {
      "text/plain": [
       "cluster  readmitted\n",
       "0        yes           5792\n",
       "1        yes           5960\n",
       "3        no            6108\n",
       "2        no            7136\n",
       "Name: readmitted, dtype: int64"
      ]
     },
     "execution_count": 30,
     "metadata": {},
     "output_type": "execute_result"
    }
   ],
   "source": [
    "df_new['cluster'] = y_predicted\n",
    "df_new.groupby(['cluster', 'readmitted'])['readmitted'].count().sort_values()"
   ]
  },
  {
   "cell_type": "markdown",
   "id": "3cf3d187-69f5-4169-a15f-2b932e9f7781",
   "metadata": {},
   "source": [
    "#### 5.1.1 Severe Group"
   ]
  },
  {
   "cell_type": "code",
   "execution_count": 31,
   "id": "aaec3017-dfec-4c1a-80f3-a087fbf5c535",
   "metadata": {
    "executionTime": 141,
    "lastSuccessfullyExecutedCode": "segment = df_new[(df_new['cluster'] == 1)]\nage = segment['age'].value_counts()\nage_tot = df_new['age'].value_counts()\nage_df = pd.DataFrame({\n    \"Admissions\": age_tot,\n    \"Readmissions\": age,\n    \"Readmission Rate\": round((age/age_tot) * 100, 2)\n})\nage_df.sort_values('Readmission Rate', ascending=False)"
   },
   "outputs": [
    {
     "data": {
      "text/html": [
       "<div>\n",
       "<style scoped>\n",
       "    .dataframe tbody tr th:only-of-type {\n",
       "        vertical-align: middle;\n",
       "    }\n",
       "\n",
       "    .dataframe tbody tr th {\n",
       "        vertical-align: top;\n",
       "    }\n",
       "\n",
       "    .dataframe thead th {\n",
       "        text-align: right;\n",
       "    }\n",
       "</style>\n",
       "<table border=\"1\" class=\"dataframe\">\n",
       "  <thead>\n",
       "    <tr style=\"text-align: right;\">\n",
       "      <th></th>\n",
       "      <th>Admissions</th>\n",
       "      <th>Readmissions</th>\n",
       "      <th>Readmission Rate</th>\n",
       "    </tr>\n",
       "  </thead>\n",
       "  <tbody>\n",
       "    <tr>\n",
       "      <th>[80-90)</th>\n",
       "      <td>4514</td>\n",
       "      <td>1183</td>\n",
       "      <td>26.21</td>\n",
       "    </tr>\n",
       "    <tr>\n",
       "      <th>[70-80)</th>\n",
       "      <td>6836</td>\n",
       "      <td>1651</td>\n",
       "      <td>24.15</td>\n",
       "    </tr>\n",
       "    <tr>\n",
       "      <th>[60-70)</th>\n",
       "      <td>5912</td>\n",
       "      <td>1390</td>\n",
       "      <td>23.51</td>\n",
       "    </tr>\n",
       "    <tr>\n",
       "      <th>[40-50)</th>\n",
       "      <td>2532</td>\n",
       "      <td>592</td>\n",
       "      <td>23.38</td>\n",
       "    </tr>\n",
       "    <tr>\n",
       "      <th>[50-60)</th>\n",
       "      <td>4452</td>\n",
       "      <td>996</td>\n",
       "      <td>22.37</td>\n",
       "    </tr>\n",
       "    <tr>\n",
       "      <th>[90-100)</th>\n",
       "      <td>750</td>\n",
       "      <td>148</td>\n",
       "      <td>19.73</td>\n",
       "    </tr>\n",
       "  </tbody>\n",
       "</table>\n",
       "</div>"
      ],
      "text/plain": [
       "          Admissions  Readmissions  Readmission Rate\n",
       "[80-90)         4514          1183             26.21\n",
       "[70-80)         6836          1651             24.15\n",
       "[60-70)         5912          1390             23.51\n",
       "[40-50)         2532           592             23.38\n",
       "[50-60)         4452           996             22.37\n",
       "[90-100)         750           148             19.73"
      ]
     },
     "execution_count": 31,
     "metadata": {},
     "output_type": "execute_result"
    }
   ],
   "source": [
    "segment = df_new[(df_new['cluster'] == 1)]\n",
    "age = segment['age'].value_counts()\n",
    "age_tot = df_new['age'].value_counts()\n",
    "age_df = pd.DataFrame({\n",
    "    \"Admissions\": age_tot,\n",
    "    \"Readmissions\": age,\n",
    "    \"Readmission Rate\": round((age/age_tot) * 100, 2)\n",
    "})\n",
    "age_df.sort_values('Readmission Rate', ascending=False)"
   ]
  },
  {
   "cell_type": "code",
   "execution_count": 32,
   "id": "5f360791-eefd-429d-aa86-e117f391edb2",
   "metadata": {
    "executionTime": 124,
    "lastSuccessfullyExecutedCode": "segment = df_new[(df_new['cluster'] == 0)]\ndiag = segment['diag_1'].value_counts()\ndiag_tot = df_new['diag_1'].value_counts()\ndiag_df = pd.DataFrame({\n    \"Admissions\": diag_tot,\n    \"Readmissions\": diag,\n    \"Readmission Rate\": round((diag/diag_tot) * 100, 2)\n})\ndiag_df.sort_values('Readmission Rate', ascending=False)"
   },
   "outputs": [
    {
     "data": {
      "text/html": [
       "<div>\n",
       "<style scoped>\n",
       "    .dataframe tbody tr th:only-of-type {\n",
       "        vertical-align: middle;\n",
       "    }\n",
       "\n",
       "    .dataframe tbody tr th {\n",
       "        vertical-align: top;\n",
       "    }\n",
       "\n",
       "    .dataframe thead th {\n",
       "        text-align: right;\n",
       "    }\n",
       "</style>\n",
       "<table border=\"1\" class=\"dataframe\">\n",
       "  <thead>\n",
       "    <tr style=\"text-align: right;\">\n",
       "      <th></th>\n",
       "      <th>Admissions</th>\n",
       "      <th>Readmissions</th>\n",
       "      <th>Readmission Rate</th>\n",
       "    </tr>\n",
       "  </thead>\n",
       "  <tbody>\n",
       "    <tr>\n",
       "      <th>Diabetes</th>\n",
       "      <td>1747</td>\n",
       "      <td>937.0</td>\n",
       "      <td>53.63</td>\n",
       "    </tr>\n",
       "    <tr>\n",
       "      <th>Circulatory</th>\n",
       "      <td>7824</td>\n",
       "      <td>3750.0</td>\n",
       "      <td>47.93</td>\n",
       "    </tr>\n",
       "    <tr>\n",
       "      <th>Digestive</th>\n",
       "      <td>2329</td>\n",
       "      <td>1105.0</td>\n",
       "      <td>47.45</td>\n",
       "    </tr>\n",
       "    <tr>\n",
       "      <th>Injury</th>\n",
       "      <td>1666</td>\n",
       "      <td>NaN</td>\n",
       "      <td>NaN</td>\n",
       "    </tr>\n",
       "    <tr>\n",
       "      <th>Musculoskeletal</th>\n",
       "      <td>1252</td>\n",
       "      <td>NaN</td>\n",
       "      <td>NaN</td>\n",
       "    </tr>\n",
       "    <tr>\n",
       "      <th>Other</th>\n",
       "      <td>6498</td>\n",
       "      <td>NaN</td>\n",
       "      <td>NaN</td>\n",
       "    </tr>\n",
       "    <tr>\n",
       "      <th>Respiratory</th>\n",
       "      <td>3680</td>\n",
       "      <td>NaN</td>\n",
       "      <td>NaN</td>\n",
       "    </tr>\n",
       "  </tbody>\n",
       "</table>\n",
       "</div>"
      ],
      "text/plain": [
       "                 Admissions  Readmissions  Readmission Rate\n",
       "Diabetes               1747         937.0             53.63\n",
       "Circulatory            7824        3750.0             47.93\n",
       "Digestive              2329        1105.0             47.45\n",
       "Injury                 1666           NaN               NaN\n",
       "Musculoskeletal        1252           NaN               NaN\n",
       "Other                  6498           NaN               NaN\n",
       "Respiratory            3680           NaN               NaN"
      ]
     },
     "execution_count": 32,
     "metadata": {},
     "output_type": "execute_result"
    }
   ],
   "source": [
    "segment = df_new[(df_new['cluster'] == 0)]\n",
    "diag = segment['diag_1'].value_counts()\n",
    "diag_tot = df_new['diag_1'].value_counts()\n",
    "diag_df = pd.DataFrame({\n",
    "    \"Admissions\": diag_tot,\n",
    "    \"Readmissions\": diag,\n",
    "    \"Readmission Rate\": round((diag/diag_tot) * 100, 2)\n",
    "})\n",
    "diag_df.sort_values('Readmission Rate', ascending=False)"
   ]
  },
  {
   "cell_type": "markdown",
   "id": "5eb7e80f-e0fc-4a08-bbd1-076026fd78ed",
   "metadata": {},
   "source": [
    "This group consist of the top 3 groups at highest risk of readmission in terms of age and primary diagnosis. It consists of\n",
    "- Ages: 80-89, 70-79, 60-69. Hence ages 60 to 89\n",
    "- Primary Diagnosis: Diabetes, Circulatory, Digestive."
   ]
  },
  {
   "cell_type": "markdown",
   "id": "d3108077-3eab-434e-9589-0b96c1cfcebf",
   "metadata": {},
   "source": [
    "#### 5.1.2 Moderate Group"
   ]
  },
  {
   "cell_type": "code",
   "execution_count": 33,
   "id": "ffe7b5bd-6175-409e-b303-2ccdf8170b5c",
   "metadata": {
    "executionTime": 253,
    "lastSuccessfullyExecutedCode": "segment = df_new[(df_new['cluster'] == 0)]\nage = segment['age'].value_counts()\nage_tot = df_new['age'].value_counts()\nage_df = pd.DataFrame({\n    \"Admissions\": age_tot,\n    \"Readmissions\": age,\n    \"Readmission Rate\": round((age/age_tot) * 100, 2)\n})\nage_df.sort_values('Readmission Rate', ascending=False)"
   },
   "outputs": [
    {
     "data": {
      "text/html": [
       "<div>\n",
       "<style scoped>\n",
       "    .dataframe tbody tr th:only-of-type {\n",
       "        vertical-align: middle;\n",
       "    }\n",
       "\n",
       "    .dataframe tbody tr th {\n",
       "        vertical-align: top;\n",
       "    }\n",
       "\n",
       "    .dataframe thead th {\n",
       "        text-align: right;\n",
       "    }\n",
       "</style>\n",
       "<table border=\"1\" class=\"dataframe\">\n",
       "  <thead>\n",
       "    <tr style=\"text-align: right;\">\n",
       "      <th></th>\n",
       "      <th>Admissions</th>\n",
       "      <th>Readmissions</th>\n",
       "      <th>Readmission Rate</th>\n",
       "    </tr>\n",
       "  </thead>\n",
       "  <tbody>\n",
       "    <tr>\n",
       "      <th>[70-80)</th>\n",
       "      <td>6836</td>\n",
       "      <td>1684</td>\n",
       "      <td>24.63</td>\n",
       "    </tr>\n",
       "    <tr>\n",
       "      <th>[80-90)</th>\n",
       "      <td>4514</td>\n",
       "      <td>1055</td>\n",
       "      <td>23.37</td>\n",
       "    </tr>\n",
       "    <tr>\n",
       "      <th>[60-70)</th>\n",
       "      <td>5912</td>\n",
       "      <td>1380</td>\n",
       "      <td>23.34</td>\n",
       "    </tr>\n",
       "    <tr>\n",
       "      <th>[90-100)</th>\n",
       "      <td>750</td>\n",
       "      <td>168</td>\n",
       "      <td>22.40</td>\n",
       "    </tr>\n",
       "    <tr>\n",
       "      <th>[50-60)</th>\n",
       "      <td>4452</td>\n",
       "      <td>970</td>\n",
       "      <td>21.79</td>\n",
       "    </tr>\n",
       "    <tr>\n",
       "      <th>[40-50)</th>\n",
       "      <td>2532</td>\n",
       "      <td>535</td>\n",
       "      <td>21.13</td>\n",
       "    </tr>\n",
       "  </tbody>\n",
       "</table>\n",
       "</div>"
      ],
      "text/plain": [
       "          Admissions  Readmissions  Readmission Rate\n",
       "[70-80)         6836          1684             24.63\n",
       "[80-90)         4514          1055             23.37\n",
       "[60-70)         5912          1380             23.34\n",
       "[90-100)         750           168             22.40\n",
       "[50-60)         4452           970             21.79\n",
       "[40-50)         2532           535             21.13"
      ]
     },
     "execution_count": 33,
     "metadata": {},
     "output_type": "execute_result"
    }
   ],
   "source": [
    "segment = df_new[(df_new['cluster'] == 0)]\n",
    "age = segment['age'].value_counts()\n",
    "age_tot = df_new['age'].value_counts()\n",
    "age_df = pd.DataFrame({\n",
    "    \"Admissions\": age_tot,\n",
    "    \"Readmissions\": age,\n",
    "    \"Readmission Rate\": round((age/age_tot) * 100, 2)\n",
    "})\n",
    "age_df.sort_values('Readmission Rate', ascending=False)"
   ]
  },
  {
   "cell_type": "code",
   "execution_count": 34,
   "id": "5cb1e54f-6a4d-4059-86ee-d5cc94ca0be5",
   "metadata": {
    "executionTime": 184,
    "lastSuccessfullyExecutedCode": "segment = df_new[(df_new['cluster'] == 1)]\ndiag = segment['diag_1'].value_counts()\ndiag_tot = df_new['diag_1'].value_counts()\ndiag_df = pd.DataFrame({\n    \"Admissions\": diag_tot,\n    \"Readmissions\": diag,\n    \"Readmission Rate\": round((diag/diag_tot) * 100, 2)\n})\ndiag_df.sort_values('Readmission Rate', ascending=False)"
   },
   "outputs": [
    {
     "data": {
      "text/html": [
       "<div>\n",
       "<style scoped>\n",
       "    .dataframe tbody tr th:only-of-type {\n",
       "        vertical-align: middle;\n",
       "    }\n",
       "\n",
       "    .dataframe tbody tr th {\n",
       "        vertical-align: top;\n",
       "    }\n",
       "\n",
       "    .dataframe thead th {\n",
       "        text-align: right;\n",
       "    }\n",
       "</style>\n",
       "<table border=\"1\" class=\"dataframe\">\n",
       "  <thead>\n",
       "    <tr style=\"text-align: right;\">\n",
       "      <th></th>\n",
       "      <th>Admissions</th>\n",
       "      <th>Readmissions</th>\n",
       "      <th>Readmission Rate</th>\n",
       "    </tr>\n",
       "  </thead>\n",
       "  <tbody>\n",
       "    <tr>\n",
       "      <th>Respiratory</th>\n",
       "      <td>3680</td>\n",
       "      <td>1806.0</td>\n",
       "      <td>49.08</td>\n",
       "    </tr>\n",
       "    <tr>\n",
       "      <th>Other</th>\n",
       "      <td>6498</td>\n",
       "      <td>2932.0</td>\n",
       "      <td>45.12</td>\n",
       "    </tr>\n",
       "    <tr>\n",
       "      <th>Injury</th>\n",
       "      <td>1666</td>\n",
       "      <td>727.0</td>\n",
       "      <td>43.64</td>\n",
       "    </tr>\n",
       "    <tr>\n",
       "      <th>Musculoskeletal</th>\n",
       "      <td>1252</td>\n",
       "      <td>495.0</td>\n",
       "      <td>39.54</td>\n",
       "    </tr>\n",
       "    <tr>\n",
       "      <th>Circulatory</th>\n",
       "      <td>7824</td>\n",
       "      <td>NaN</td>\n",
       "      <td>NaN</td>\n",
       "    </tr>\n",
       "    <tr>\n",
       "      <th>Diabetes</th>\n",
       "      <td>1747</td>\n",
       "      <td>NaN</td>\n",
       "      <td>NaN</td>\n",
       "    </tr>\n",
       "    <tr>\n",
       "      <th>Digestive</th>\n",
       "      <td>2329</td>\n",
       "      <td>NaN</td>\n",
       "      <td>NaN</td>\n",
       "    </tr>\n",
       "  </tbody>\n",
       "</table>\n",
       "</div>"
      ],
      "text/plain": [
       "                 Admissions  Readmissions  Readmission Rate\n",
       "Respiratory            3680        1806.0             49.08\n",
       "Other                  6498        2932.0             45.12\n",
       "Injury                 1666         727.0             43.64\n",
       "Musculoskeletal        1252         495.0             39.54\n",
       "Circulatory            7824           NaN               NaN\n",
       "Diabetes               1747           NaN               NaN\n",
       "Digestive              2329           NaN               NaN"
      ]
     },
     "execution_count": 34,
     "metadata": {},
     "output_type": "execute_result"
    }
   ],
   "source": [
    "segment = df_new[(df_new['cluster'] == 1)]\n",
    "diag = segment['diag_1'].value_counts()\n",
    "diag_tot = df_new['diag_1'].value_counts()\n",
    "diag_df = pd.DataFrame({\n",
    "    \"Admissions\": diag_tot,\n",
    "    \"Readmissions\": diag,\n",
    "    \"Readmission Rate\": round((diag/diag_tot) * 100, 2)\n",
    "})\n",
    "diag_df.sort_values('Readmission Rate', ascending=False)"
   ]
  },
  {
   "cell_type": "markdown",
   "id": "0d816f1a-7e5e-494b-a4e8-be8092bd9651",
   "metadata": {},
   "source": [
    "This group consist of the top 3 groups at moderate risk of readmission in terms of age and primary diagnosis. It consists of\n",
    "- Ages: 70-79, 80-89, 60-69. Hence ages 60 to 89\n",
    "- Primary Diagnosis: Respiratory, Other, Injury."
   ]
  },
  {
   "cell_type": "markdown",
   "id": "b12691e1-030f-43ca-a213-03a77ae9828b",
   "metadata": {},
   "source": [
    "#### 5.1.3 Focus Group"
   ]
  },
  {
   "cell_type": "code",
   "execution_count": 35,
   "id": "7ecf9639-c7a7-4ae7-b8c1-0f8f47c15e27",
   "metadata": {
    "executionTime": 133,
    "lastSuccessfullyExecutedCode": "segment = df_new[(df_new['cluster'] == 0) | (df_new['cluster'] == 1)]\nage = segment['age'].value_counts()\nage_tot = df_new['age'].value_counts()\nage_df = pd.DataFrame({\n    \"Admissions\": age_tot,\n    \"Readmissions\": age,\n    \"Readmission Rate\": round((age/age_tot) * 100, 2)\n})\nage_df.sort_values('Readmission Rate', ascending=False)"
   },
   "outputs": [
    {
     "data": {
      "text/html": [
       "<div>\n",
       "<style scoped>\n",
       "    .dataframe tbody tr th:only-of-type {\n",
       "        vertical-align: middle;\n",
       "    }\n",
       "\n",
       "    .dataframe tbody tr th {\n",
       "        vertical-align: top;\n",
       "    }\n",
       "\n",
       "    .dataframe thead th {\n",
       "        text-align: right;\n",
       "    }\n",
       "</style>\n",
       "<table border=\"1\" class=\"dataframe\">\n",
       "  <thead>\n",
       "    <tr style=\"text-align: right;\">\n",
       "      <th></th>\n",
       "      <th>Admissions</th>\n",
       "      <th>Readmissions</th>\n",
       "      <th>Readmission Rate</th>\n",
       "    </tr>\n",
       "  </thead>\n",
       "  <tbody>\n",
       "    <tr>\n",
       "      <th>[80-90)</th>\n",
       "      <td>4514</td>\n",
       "      <td>2238</td>\n",
       "      <td>49.58</td>\n",
       "    </tr>\n",
       "    <tr>\n",
       "      <th>[70-80)</th>\n",
       "      <td>6836</td>\n",
       "      <td>3335</td>\n",
       "      <td>48.79</td>\n",
       "    </tr>\n",
       "    <tr>\n",
       "      <th>[60-70)</th>\n",
       "      <td>5912</td>\n",
       "      <td>2770</td>\n",
       "      <td>46.85</td>\n",
       "    </tr>\n",
       "    <tr>\n",
       "      <th>[40-50)</th>\n",
       "      <td>2532</td>\n",
       "      <td>1127</td>\n",
       "      <td>44.51</td>\n",
       "    </tr>\n",
       "    <tr>\n",
       "      <th>[50-60)</th>\n",
       "      <td>4452</td>\n",
       "      <td>1966</td>\n",
       "      <td>44.16</td>\n",
       "    </tr>\n",
       "    <tr>\n",
       "      <th>[90-100)</th>\n",
       "      <td>750</td>\n",
       "      <td>316</td>\n",
       "      <td>42.13</td>\n",
       "    </tr>\n",
       "  </tbody>\n",
       "</table>\n",
       "</div>"
      ],
      "text/plain": [
       "          Admissions  Readmissions  Readmission Rate\n",
       "[80-90)         4514          2238             49.58\n",
       "[70-80)         6836          3335             48.79\n",
       "[60-70)         5912          2770             46.85\n",
       "[40-50)         2532          1127             44.51\n",
       "[50-60)         4452          1966             44.16\n",
       "[90-100)         750           316             42.13"
      ]
     },
     "execution_count": 35,
     "metadata": {},
     "output_type": "execute_result"
    }
   ],
   "source": [
    "segment = df_new[(df_new['cluster'] == 0) | (df_new['cluster'] == 1)]\n",
    "age = segment['age'].value_counts()\n",
    "age_tot = df_new['age'].value_counts()\n",
    "age_df = pd.DataFrame({\n",
    "    \"Admissions\": age_tot,\n",
    "    \"Readmissions\": age,\n",
    "    \"Readmission Rate\": round((age/age_tot) * 100, 2)\n",
    "})\n",
    "age_df.sort_values('Readmission Rate', ascending=False)"
   ]
  },
  {
   "cell_type": "code",
   "execution_count": 36,
   "id": "6c3a9099-7b71-46ac-980b-75553d5aed89",
   "metadata": {
    "executionTime": 165,
    "lastSuccessfullyExecutedCode": "diag = segment['diag_1'].value_counts()\ndiag_tot = df_new['diag_1'].value_counts()\ndiag_df = pd.DataFrame({\n    \"Admissions\": diag_tot,\n    \"Readmissions\": diag,\n    \"Readmission Rate\": round((diag/diag_tot) * 100, 2)\n})\ndiag_df.sort_values('Readmission Rate', ascending=False)"
   },
   "outputs": [
    {
     "data": {
      "text/html": [
       "<div>\n",
       "<style scoped>\n",
       "    .dataframe tbody tr th:only-of-type {\n",
       "        vertical-align: middle;\n",
       "    }\n",
       "\n",
       "    .dataframe tbody tr th {\n",
       "        vertical-align: top;\n",
       "    }\n",
       "\n",
       "    .dataframe thead th {\n",
       "        text-align: right;\n",
       "    }\n",
       "</style>\n",
       "<table border=\"1\" class=\"dataframe\">\n",
       "  <thead>\n",
       "    <tr style=\"text-align: right;\">\n",
       "      <th></th>\n",
       "      <th>Admissions</th>\n",
       "      <th>Readmissions</th>\n",
       "      <th>Readmission Rate</th>\n",
       "    </tr>\n",
       "  </thead>\n",
       "  <tbody>\n",
       "    <tr>\n",
       "      <th>Diabetes</th>\n",
       "      <td>1747</td>\n",
       "      <td>937</td>\n",
       "      <td>53.63</td>\n",
       "    </tr>\n",
       "    <tr>\n",
       "      <th>Respiratory</th>\n",
       "      <td>3680</td>\n",
       "      <td>1806</td>\n",
       "      <td>49.08</td>\n",
       "    </tr>\n",
       "    <tr>\n",
       "      <th>Circulatory</th>\n",
       "      <td>7824</td>\n",
       "      <td>3750</td>\n",
       "      <td>47.93</td>\n",
       "    </tr>\n",
       "    <tr>\n",
       "      <th>Digestive</th>\n",
       "      <td>2329</td>\n",
       "      <td>1105</td>\n",
       "      <td>47.45</td>\n",
       "    </tr>\n",
       "    <tr>\n",
       "      <th>Other</th>\n",
       "      <td>6498</td>\n",
       "      <td>2932</td>\n",
       "      <td>45.12</td>\n",
       "    </tr>\n",
       "    <tr>\n",
       "      <th>Injury</th>\n",
       "      <td>1666</td>\n",
       "      <td>727</td>\n",
       "      <td>43.64</td>\n",
       "    </tr>\n",
       "    <tr>\n",
       "      <th>Musculoskeletal</th>\n",
       "      <td>1252</td>\n",
       "      <td>495</td>\n",
       "      <td>39.54</td>\n",
       "    </tr>\n",
       "  </tbody>\n",
       "</table>\n",
       "</div>"
      ],
      "text/plain": [
       "                 Admissions  Readmissions  Readmission Rate\n",
       "Diabetes               1747           937             53.63\n",
       "Respiratory            3680          1806             49.08\n",
       "Circulatory            7824          3750             47.93\n",
       "Digestive              2329          1105             47.45\n",
       "Other                  6498          2932             45.12\n",
       "Injury                 1666           727             43.64\n",
       "Musculoskeletal        1252           495             39.54"
      ]
     },
     "execution_count": 36,
     "metadata": {},
     "output_type": "execute_result"
    }
   ],
   "source": [
    "diag = segment['diag_1'].value_counts()\n",
    "diag_tot = df_new['diag_1'].value_counts()\n",
    "diag_df = pd.DataFrame({\n",
    "    \"Admissions\": diag_tot,\n",
    "    \"Readmissions\": diag,\n",
    "    \"Readmission Rate\": round((diag/diag_tot) * 100, 2)\n",
    "})\n",
    "diag_df.sort_values('Readmission Rate', ascending=False)"
   ]
  },
  {
   "cell_type": "markdown",
   "id": "4d29fed0-1af6-4239-a270-16062b297ac1",
   "metadata": {},
   "source": [
    "In summary, identifying the group of patients most at risk of readmission is very important in the the reduction of hospital readmissions. In the analysis done the most severe focus group was observd to be: **Patients Aged 80-89 and admitted with Primary diagnosis being Diabetes**.\n"
   ]
  },
  {
   "cell_type": "markdown",
   "id": "26b9baa8-3fba-4b6f-9334-fa5f13760556",
   "metadata": {},
   "source": [
    "# Conclusion\n",
    "The need to reduce the rate of readmissions in hospitals is very important because increased readmissions are associated with poor prognosis of the diseases and of course higher mortality rates. It is a responsibility of both the medical personel and the patients to work together towards achieving this and realising results. It is necessary for the patient to prevent all modifiable risk factors to readmission and for the medical personel to manage and control the unmodifiable risk factors. Hence adoption of suitable hospital policies and continuos evaluation of the efficiency will be a recommended move in achieving this objective."
   ]
  }
 ],
 "metadata": {
  "editor": "DataCamp Workspace",
  "kernelspec": {
   "display_name": "Python 3 (ipykernel)",
   "language": "python",
   "name": "python3"
  },
  "language_info": {
   "codemirror_mode": {
    "name": "ipython",
    "version": 3
   },
   "file_extension": ".py",
   "mimetype": "text/x-python",
   "name": "python",
   "nbconvert_exporter": "python",
   "pygments_lexer": "ipython3",
   "version": "3.9.7"
  }
 },
 "nbformat": 4,
 "nbformat_minor": 5
}
